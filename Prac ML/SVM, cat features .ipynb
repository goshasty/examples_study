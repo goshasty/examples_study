{
 "cells": [
  {
   "cell_type": "markdown",
   "metadata": {},
   "source": [
    "## Машинное обучение, ФКН ВШЭ\n",
    "\n",
    "## Практическое задание 4\n",
    "\n",
    "### Общая информация\n",
    "Дата выдачи: 12 октября 2018\n",
    "\n",
    "Мягкий дедлайн: 7:59MSK 20 октября 2018 (за каждый день просрочки снимается 1 балл)\n",
    "\n",
    "Жесткий дедлайн: 23:59MSK 21 октября 2018."
   ]
  },
  {
   "cell_type": "markdown",
   "metadata": {},
   "source": [
    "### О задании\n",
    "\n",
    "В этом задании вы:\n",
    "- настроите метод опорных векторов, визуализируете опорные вектора\n",
    "- познакомитесь с калибровочными кривыми и сравните вероятности, выдаваемые логистической регрессией и методом опорных векторов\n",
    "- изучите методы работы с категориальными переменными\n",
    "- в качестве бонуса попробуете библиотеку vowpal wabbit.\n",
    "\n",
    "\n",
    "### Оценивание и штрафы\n",
    "Каждая из задач имеет определенную «стоимость» (указана в скобках около задачи). Максимально допустимая оценка за работу — 10 баллов.\n",
    "\n",
    "Сдавать задание после указанного срока сдачи нельзя. При выставлении неполного балла за задание в связи с наличием ошибок на усмотрение проверяющего предусмотрена возможность исправить работу на указанных в ответном письме условиях.\n",
    "\n",
    "Задание выполняется самостоятельно. «Похожие» решения считаются плагиатом и все задействованные студенты (в том числе те, у кого списали) не могут получить за него больше 0 баллов (подробнее о плагиате см. на странице курса). Если вы нашли решение какого-то из заданий (или его часть) в открытом источнике, необходимо указать ссылку на этот источник в отдельном блоке в конце вашей работы (скорее всего вы будете не единственным, кто это нашел, поэтому чтобы исключить подозрение в плагиате, необходима ссылка на источник).\n",
    "\n",
    "Неэффективная реализация кода может негативно отразиться на оценке.\n",
    "\n",
    "\n",
    "### Формат сдачи\n",
    "Для сдачи задания переименуйте получившийся файл *.ipynb в соответствии со следующим форматом: homework-practice-04-Username.ipynb, где Username — ваша фамилия и имя на латинице именно в таком порядке (например, homework-practice-04-IvanovIvan.ipynb).\n",
    "\n",
    "Для удобства проверки самостоятельно посчитайте свою максимальную оценку (исходя из набора решенных задач) и укажите ниже."
   ]
  },
  {
   "cell_type": "markdown",
   "metadata": {},
   "source": [
    "** Оценка:** ..."
   ]
  },
  {
   "cell_type": "code",
   "execution_count": 2,
   "metadata": {
    "ExecuteTime": {
     "end_time": "2018-10-12T07:35:57.811648Z",
     "start_time": "2018-10-12T07:35:56.275023Z"
    }
   },
   "outputs": [
    {
     "name": "stdout",
     "output_type": "stream",
     "text": [
      "Populating the interactive namespace from numpy and matplotlib\n"
     ]
    }
   ],
   "source": [
    "%pylab inline\n",
    "\n",
    "import time\n",
    "import pandas as pd\n",
    "import matplotlib.pyplot as plt\n",
    "from sklearn.datasets import make_classification\n",
    "from sklearn.metrics import accuracy_score, roc_curve, auc, \\\n",
    "                            precision_recall_curve, roc_auc_score\n",
    "from sklearn.model_selection import train_test_split\n",
    "from sklearn import svm\n",
    "from sklearn.linear_model import LogisticRegression\n",
    "from sklearn.calibration import CalibratedClassifierCV"
   ]
  },
  {
   "cell_type": "markdown",
   "metadata": {},
   "source": [
    "## Часть 1. Метод опорных векторов и калибровка вероятностней"
   ]
  },
  {
   "cell_type": "markdown",
   "metadata": {
    "ExecuteTime": {
     "end_time": "2018-10-12T07:36:04.765536Z",
     "start_time": "2018-10-12T07:35:57.814973Z"
    }
   },
   "source": [
    "Сгенерируем синтетические данные."
   ]
  },
  {
   "cell_type": "code",
   "execution_count": 3,
   "metadata": {
    "ExecuteTime": {
     "end_time": "2018-10-12T07:41:10.323028Z",
     "start_time": "2018-10-12T07:41:10.146798Z"
    }
   },
   "outputs": [],
   "source": [
    "X, y = make_classification(n_samples=100000, n_features=20,\n",
    "                                    n_informative=10, n_redundant=10,\n",
    "                                    random_state=42)\n",
    "\n",
    "X_train, X_test, y_train, y_test = train_test_split(X, y, test_size=0.3,\n",
    "                                                    random_state=42)"
   ]
  },
  {
   "cell_type": "markdown",
   "metadata": {},
   "source": [
    "__Задание 1.__ Обучение и применение метода опорных векторов.\n",
    "\n",
    "__(2 балла)__\n",
    "\n",
    "Обучите метод опорных векторов. На занятиях мы проходили обычный вариант, что соответствует линейному ядру (LinearSVC/LinearSVR в scikit-learn)."
   ]
  },
  {
   "cell_type": "code",
   "execution_count": 4,
   "metadata": {},
   "outputs": [
    {
     "data": {
      "text/plain": [
       "LinearSVC(C=1.0, class_weight=None, dual=True, fit_intercept=True,\n",
       "     intercept_scaling=1, loss='squared_hinge', max_iter=1000,\n",
       "     multi_class='ovr', penalty='l2', random_state=43, tol=0.0001,\n",
       "     verbose=0)"
      ]
     },
     "execution_count": 4,
     "metadata": {},
     "output_type": "execute_result"
    }
   ],
   "source": [
    "clf_linear = svm.LinearSVC(random_state=43)\n",
    "clf_linear.fit(X_train, y_train)"
   ]
  },
  {
   "cell_type": "code",
   "execution_count": 6,
   "metadata": {},
   "outputs": [],
   "source": [
    "pred = clf_linear.predict(X_test)"
   ]
  },
  {
   "cell_type": "markdown",
   "metadata": {},
   "source": [
    "На тестовой части посчитайте ROC-AUC, PR-AUC. Постройте ROC и PR кривые."
   ]
  },
  {
   "cell_type": "markdown",
   "metadata": {},
   "source": [
    "Здесь посчитаем FPR и TPR, pressision и recall в ручную для трешхолда, равного нулю, и выдаваемыми значениями 1 и -1 (собственно как и работает SVM)"
   ]
  },
  {
   "cell_type": "code",
   "execution_count": 7,
   "metadata": {},
   "outputs": [
    {
     "data": {
      "text/plain": [
       "0.84707926747761"
      ]
     },
     "execution_count": 7,
     "metadata": {},
     "output_type": "execute_result"
    }
   ],
   "source": [
    "TP_FN = (y_test==1).astype(int).sum()\n",
    "TP = ((pred==1)*(y_test==1)).astype(int).sum()\n",
    "TPR = TP/TP_FN\n",
    "TPR"
   ]
  },
  {
   "cell_type": "code",
   "execution_count": 8,
   "metadata": {},
   "outputs": [
    {
     "data": {
      "text/plain": [
       "0.15108392073414018"
      ]
     },
     "execution_count": 8,
     "metadata": {},
     "output_type": "execute_result"
    }
   ],
   "source": [
    "TN_FP = (y_test==0).astype(int).sum()\n",
    "FP = ((pred==1)*(y_test==0)).astype(int).sum()\n",
    "FPR = FP/TN_FP\n",
    "FPR"
   ]
  },
  {
   "cell_type": "code",
   "execution_count": 9,
   "metadata": {},
   "outputs": [
    {
     "name": "stdout",
     "output_type": "stream",
     "text": [
      "recall = 0.84707926747761\n",
      "precision = 0.8479860832329721\n"
     ]
    }
   ],
   "source": [
    "FN = ((pred==0)*(y_test==1)).astype(int).sum()\n",
    "pressision = TP/(TP+FP)\n",
    "recall = TP/(TP+FN)\n",
    "print('recall =', recall)\n",
    "print('precision =', pressision)"
   ]
  },
  {
   "cell_type": "markdown",
   "metadata": {},
   "source": [
    "Теперь используем функции из sklean, чтобы посчитать ROC-AUC и PR-AUC. В качестве численных значений будем использовать значения decision_function SVM"
   ]
  },
  {
   "cell_type": "code",
   "execution_count": 10,
   "metadata": {},
   "outputs": [],
   "source": [
    "distance_test = clf_linear.decision_function(X_test)\n",
    "fpr, tpr, _ = roc_curve(y_test, distance_test)\n",
    "precision, recall, _ = precision_recall_curve(y_test, distance_test)"
   ]
  },
  {
   "cell_type": "code",
   "execution_count": 11,
   "metadata": {},
   "outputs": [
    {
     "data": {
      "image/png": "[encoded data removed]",
      "text/plain": [
       "<Figure size 720x360 with 2 Axes>"
      ]
     },
     "metadata": {},
     "output_type": "display_data"
    }
   ],
   "source": [
    "fig = plt.figure()\n",
    "fig.set_figwidth(10)\n",
    "fig.set_figheight(5)\n",
    "\n",
    "\n",
    "# ROC кривая\n",
    "fig.add_subplot(121)\n",
    "plt.plot(fpr, tpr)\n",
    "plt.fill_between(fpr, tpr, alpha=0.4)\n",
    "#plt.xlim(0,1)\n",
    "#plt.ylim(0,1)\n",
    "plt.gca().set_aspect('equal', adjustable='box')\n",
    "plt.title('ROC кривая')\n",
    "plt.xlabel('FPR')\n",
    "plt.ylabel('TPR')\n",
    "\n",
    "\n",
    "\n",
    "# RC кривая\n",
    "fig.add_subplot(122)\n",
    "plt.plot(recall, precision, c='g')\n",
    "plt.fill_between(recall, precision, color='g', alpha=0.4)\n",
    "plt.gca().set_aspect('equal', adjustable='box')\n",
    "plt.title('PR кривая')\n",
    "plt.xlabel('recall')\n",
    "plt.ylabel('precision')\n",
    "plt.tight_layout(w_pad=3)\n",
    "plt.show()\n"
   ]
  },
  {
   "cell_type": "code",
   "execution_count": 160,
   "metadata": {},
   "outputs": [
    {
     "name": "stdout",
     "output_type": "stream",
     "text": [
      "ROC-AUC = 0.9254435837357109\n",
      "PR-AUC = 0.924203664258838\n"
     ]
    }
   ],
   "source": [
    "print('ROC-AUC =', auc(fpr, tpr))\n",
    "print('PR-AUC =', auc(recall, precision))"
   ]
  },
  {
   "cell_type": "markdown",
   "metadata": {},
   "source": [
    "В названии метода присутствуют некоторые \"опорные векторы\". Сгенерируйте синтетический датасет с помощью make_classification с 2 признаками, обучите на нём метод опорных векторов. Визуализируйте разделяющую прямую, все объекты и выделите опорные вектора (атрибут support\\_vectors\\_). В этот раз вместо LinearSVC воспользуйтесь SVC с линейным ядром (kernel='linear'), так как только в нём есть информация об опорных векторах."
   ]
  },
  {
   "cell_type": "code",
   "execution_count": 38,
   "metadata": {},
   "outputs": [],
   "source": [
    "X, y = make_classification(n_samples=500, n_features=2,\n",
    "                                    n_informative=2, n_redundant=0,\n",
    "                                    random_state=47)\n"
   ]
  },
  {
   "cell_type": "code",
   "execution_count": 39,
   "metadata": {},
   "outputs": [
    {
     "data": {
      "text/plain": [
       "SVC(C=1.0, cache_size=200, class_weight=None, coef0=0.0,\n",
       "  decision_function_shape='ovr', degree=3, gamma='auto', kernel='linear',\n",
       "  max_iter=-1, probability=False, random_state=47, shrinking=True,\n",
       "  tol=0.001, verbose=False)"
      ]
     },
     "execution_count": 39,
     "metadata": {},
     "output_type": "execute_result"
    }
   ],
   "source": [
    "clf_synthetic = svm.SVC(kernel='linear', random_state=47)\n",
    "clf_synthetic.fit(X, y)"
   ]
  },
  {
   "cell_type": "code",
   "execution_count": 52,
   "metadata": {},
   "outputs": [],
   "source": [
    "sup_vectors = clf_synthetic.support_vectors_\n",
    "div_line = clf_synthetic.coef_"
   ]
  },
  {
   "cell_type": "code",
   "execution_count": 48,
   "metadata": {},
   "outputs": [],
   "source": [
    "colors_obj = np.zeros(sup_vectors.shape[0])\n",
    "colors_obj = copy(y[clf_synthetic.support_])\n",
    "colors_sup = ['g' if x==1 else 'r' for x in colors_obj]\n",
    "colors_not_sup = ['g' if y_i==1 else 'r' for y_i in y]\n"
   ]
  },
  {
   "cell_type": "code",
   "execution_count": 62,
   "metadata": {},
   "outputs": [],
   "source": [
    "a_coef, b_coef = div_line[0]\n",
    "def get_x(y):\n",
    "    return -b_coef/a_coef*y\n",
    "\n",
    "y1 = 3\n",
    "y2 = -4\n",
    "x1 = get_x(y1)\n",
    "x2 = get_x(y2)"
   ]
  },
  {
   "cell_type": "code",
   "execution_count": 71,
   "metadata": {},
   "outputs": [
    {
     "data": {
      "image/png": "[encoded data removed]",
      "text/plain": [
       "<Figure size 720x576 with 1 Axes>"
      ]
     },
     "metadata": {},
     "output_type": "display_data"
    }
   ],
   "source": [
    "fig = plt.figure(figsize=(10, 8))\n",
    "plt.title('Разделяющая прямая и опорные вектора')\n",
    "plt.plot([x1, x2], [y1, y2], c='c', linewidth=3)\n",
    "plt.scatter(sup_vectors[:,0], sup_vectors[:,1], c=colors_sup, s=20)\n",
    "plt.scatter(X[:,0], X[:,1], c=colors_not_sup, alpha=0.3, s=20)\n",
    "plt.ylim(y2, y1)\n",
    "plt.show()"
   ]
  },
  {
   "cell_type": "markdown",
   "metadata": {},
   "source": [
    "Берюзовым показана разделяющая прямая. Объекты одного класса синие, другого - красный. Оперные вектора нарисованы 'жирно', у остальных коэффицент прозрачноcти 0.3\n",
    "\n",
    "Мы видим, что многие опорные вектора, попали в чужую область - это легко объясняется методом пристального взгляда: действительно, наша выборка линейна неразделима, значит на некоторых векторах, находящихся у условной границы алгоритм будет ошибаться "
   ]
  },
  {
   "cell_type": "markdown",
   "metadata": {},
   "source": [
    "__Задание 2.__ Калибровка вероятностей.\n",
    "\n",
    "__(2 балла)__\n",
    "\n",
    "Перейдём к оценке качества выдаваемых алгоритмами вероятностей. Начнём с калибровочных кривых. \n",
    "\n",
    "Допустим, алгоритм возвращает некоторые числа от нуля до единицы. Хорошо ли они оценивают вероятность? Для этого разобьем отрезок $[0, 1]$ на несколько маленьких отрезков одинаковой длины. Рассмотрим $i$-й отрезок с границами $[a_i, b_i]$ и предсказания $p_1, p_2, \\dots, p_k$, которые попали в него. Пусть им соответствуют истинные ответы $y_1, y_2, \\dots, y_k$. Если алгоритм выдает корректные вероятности, то среди этих истинных ответов должно быть примерно $(a_i + b_i) / 2$ единиц. Иными словами, если нарисовать кривую, у которой по оси X отложены центры отрезков, а по оси Y — доли единичных ответов этих в отрезках, то она должна оказаться диагональной. Ниже приведена функция, которая должна рисовать такие кривые. В ней допущено две ошибки — найдите и исправьте их."
   ]
  },
  {
   "cell_type": "code",
   "execution_count": 172,
   "metadata": {},
   "outputs": [],
   "source": [
    "X, y = make_classification(n_samples=10000, n_features=2,\n",
    "                                    n_informative=2, n_redundant=0,\n",
    "                                    random_state=47)"
   ]
  },
  {
   "cell_type": "code",
   "execution_count": 202,
   "metadata": {},
   "outputs": [],
   "source": [
    "def plot_calibration_curve(y_test, preds):\n",
    "    bin_middle_points = []\n",
    "    bin_real_ratios = []\n",
    "    n_bins = 20\n",
    "    for i in range(n_bins):\n",
    "        l = 1.0 / n_bins * i\n",
    "        r = 1.0 / n_bins * (i + 1)\n",
    "        bin_middle_points.append((r + l) / 2)\n",
    "        # неравильно считался центр\n",
    "        \n",
    "        count_catch = np.count_nonzero([(preds >= l) & (preds < r)])\n",
    "        count_catch = count_catch if count_catch!=0 else 1\n",
    "        bin_real_ratios.append(np.count_nonzero(y_test[(preds >= l) & (preds < r)] == 1) /\n",
    "                               count_catch ) \n",
    "        # не делили на количесвто всех объектов, значения функции на которых попали в промежуток\n",
    "    plt.grid(True)\n",
    "    plt.plot(bin_middle_points, bin_real_ratios)"
   ]
  },
  {
   "cell_type": "code",
   "execution_count": 203,
   "metadata": {},
   "outputs": [
    {
     "name": "stderr",
     "output_type": "stream",
     "text": [
      "C:\\ProgramData\\Anaconda3\\lib\\site-packages\\matplotlib\\cbook\\deprecation.py:107: MatplotlibDeprecationWarning: Passing one of 'on', 'true', 'off', 'false' as a boolean is deprecated; use an actual boolean (True/False) instead.\n",
      "  warnings.warn(message, mplDeprecation, stacklevel=1)\n"
     ]
    },
    {
     "data": {
      "image/png": "[encoded data removed]",
      "text/plain": [
       "<Figure size 432x288 with 1 Axes>"
      ]
     },
     "metadata": {},
     "output_type": "display_data"
    }
   ],
   "source": [
    "plot_calibration_curve(y, prob_x[:,1])\n",
    "plot_calibration_curve(y, prob_SVM_x)"
   ]
  },
  {
   "cell_type": "code",
   "execution_count": 179,
   "metadata": {},
   "outputs": [],
   "source": [
    "log_reg = LogisticRegression(random_state=47).fit(X, y)\n"
   ]
  },
  {
   "cell_type": "code",
   "execution_count": 180,
   "metadata": {},
   "outputs": [],
   "source": [
    "prob_x = log_reg.predict_proba(X)"
   ]
  },
  {
   "cell_type": "code",
   "execution_count": 175,
   "metadata": {},
   "outputs": [
    {
     "data": {
      "text/plain": [
       "SVC(C=1.0, cache_size=200, class_weight=None, coef0=0.0,\n",
       "  decision_function_shape='ovr', degree=3, gamma='auto', kernel='linear',\n",
       "  max_iter=-1, probability=False, random_state=47, shrinking=True,\n",
       "  tol=0.001, verbose=False)"
      ]
     },
     "execution_count": 175,
     "metadata": {},
     "output_type": "execute_result"
    }
   ],
   "source": [
    "clf_synthetic = svm.SVC(kernel='linear', random_state=47)\n",
    "clf_synthetic.fit(X, y)"
   ]
  },
  {
   "cell_type": "code",
   "execution_count": 176,
   "metadata": {},
   "outputs": [],
   "source": [
    "prob_SVM_x = clf_synthetic.decision_function(X)\n",
    "prob_SVM_x = (prob_SVM_x - prob_SVM_x.min())/(prob_SVM_x.max() - prob_SVM_x.min())"
   ]
  },
  {
   "cell_type": "markdown",
   "metadata": {},
   "source": [
    "Постройте калибровочные кривые для логистической регрессии и метода опорных векторов. Изучите распределение ответов классификаторов (постройте гистограммы с помощью plt.hist). Чем они различаются? Чем вы можете объяснить это?\n",
    "\n",
    "Заметим, что метод опорных векторов не умеет predict_proba, но имеет метод decision_function."
   ]
  },
  {
   "cell_type": "markdown",
   "metadata": {},
   "source": [
    "Перепишем немного функцию, чтобы графики получились красивыми"
   ]
  },
  {
   "cell_type": "code",
   "execution_count": 201,
   "metadata": {},
   "outputs": [
    {
     "data": {
      "image/png": "[encoded data removed]",
      "text/plain": [
       "<Figure size 720x360 with 2 Axes>"
      ]
     },
     "metadata": {},
     "output_type": "display_data"
    }
   ],
   "source": [
    "bin_middle_points = []\n",
    "bin_real_ratios = []\n",
    "n_bins = 20\n",
    "fig = plt.figure(figsize=(10,5))\n",
    "\n",
    "\n",
    "y_test = y\n",
    "preds = prob_x[:,1]\n",
    "fig.add_subplot(121)\n",
    "for i in range(n_bins):\n",
    "    l = 1.0 / n_bins * i\n",
    "    r = 1.0 / n_bins * (i + 1)\n",
    "    bin_middle_points.append((r + l) / 2)\n",
    "        \n",
    "    count_catch = np.count_nonzero([(preds >= l) & (preds < r)])\n",
    "    count_catch = count_catch if count_catch!=0 else 1\n",
    "    bin_real_ratios.append(np.count_nonzero(y_test[(preds >= l) & (preds < r)] == 1) /\n",
    "                               count_catch ) \n",
    "plt.grid(True)\n",
    "plt.title('Калибровочная кривая для линейной регрессии')\n",
    "plt.plot(bin_middle_points, bin_real_ratios)\n",
    "plt.ylabel('Доля верно угаданных объектов')\n",
    "plt.xlabel('значение predict_proba')\n",
    "\n",
    "bin_middle_points = []\n",
    "bin_real_ratios = []\n",
    "preds = prob_SVM_x\n",
    "fig.add_subplot(122)\n",
    "for i in range(n_bins):\n",
    "    l = 1.0 / n_bins * i\n",
    "    r = 1.0 / n_bins * (i + 1)\n",
    "    bin_middle_points.append((r + l) / 2)\n",
    "    # неравильно считался центр\n",
    "        \n",
    "    count_catch = np.count_nonzero([(preds >= l) & (preds < r)])\n",
    "    count_catch = count_catch if count_catch!=0 else 1\n",
    "    bin_real_ratios.append(np.count_nonzero(y_test[(preds >= l) & (preds < r)] == 1) /\n",
    "                               count_catch ) \n",
    "plt.grid(True)\n",
    "plt.title('Калибровочная кривая для SVM')\n",
    "plt.plot(bin_middle_points, bin_real_ratios)\n",
    "plt.xlabel('нормированное значение decision_function');\n",
    "plt.show()\n"
   ]
  },
  {
   "cell_type": "markdown",
   "metadata": {},
   "source": [
    "Судя по графику SVM не предсказывает вероятности, но это так и есть: ведь мы находим один точный порог (разделяющую прямую), все объкты (в идеальном случае) по одну сторону одного класса, по другую - другого. Отметим, то что здесь порог условно равен 0.4 - это, по-видимому, произошло из-за того, что при MinMaxScaler (который тут реализован, а не взят из библиотеки) неустойчив к выбросам, и нашелся какой-то объект с очень большим значением отсутпа)"
   ]
  },
  {
   "cell_type": "code",
   "execution_count": 253,
   "metadata": {},
   "outputs": [
    {
     "data": {
      "image/png": "[encoded data removed]",
      "text/plain": [
       "<Figure size 864x360 with 2 Axes>"
      ]
     },
     "metadata": {},
     "output_type": "display_data"
    }
   ],
   "source": [
    "fig = plt.figure(figsize=(12\n",
    "                          , 5))\n",
    "fig.add_subplot(1,2,1)\n",
    "plt.title('Распределение объектов по веротяности линейной регрессии')\n",
    "plt.hist(prob_x[:,1])\n",
    "plt.xlabel('значение predict_proba')\n",
    "plt.yticks(np.linspace(0, 3500, 8))\n",
    "plt.grid(True)\n",
    "plt.ylabel('число объектов')\n",
    "\n",
    "fig.add_subplot(1,2,2)\n",
    "plt.title('Распределение объектов по веротяности SVM')\n",
    "plt.hist(prob_SVM_x)\n",
    "plt.xlabel('нормированное значение decision_function');\n",
    "plt.yticks(np.linspace(0, 3500, 8))\n",
    "plt.grid(True)\n",
    "plt.tight_layout()\n"
   ]
  },
  {
   "cell_type": "markdown",
   "metadata": {},
   "source": [
    "При линейной регресии ббольшинство объектов 'уверены' какому классу они принадлежат, то есть имеют высокую вероятность принадлежности к определенному классу. У SVM же большинство объектов имеют среднее нормированное значечние decision_function (а нешем случае оно близко к 0.3) - понятно, ведь большинство объектов как раз и лежит около разделяюще прямой"
   ]
  },
  {
   "cell_type": "markdown",
   "metadata": {},
   "source": [
    "Воспользуйтесь CalibratedClassifierCV из sklearn для калибровки вероятностей метода опорных векторов на обучении и постройте с его помощью предсказания для тестовой выборки. Нарисуйте для них калибровочную кривую. Улучшилась ли она?"
   ]
  },
  {
   "cell_type": "markdown",
   "metadata": {},
   "source": [
    "Вернемся к исходной выборке"
   ]
  },
  {
   "cell_type": "code",
   "execution_count": 241,
   "metadata": {},
   "outputs": [
    {
     "data": {
      "text/plain": [
       "LinearSVC(C=1.0, class_weight=None, dual=True, fit_intercept=True,\n",
       "     intercept_scaling=1, loss='squared_hinge', max_iter=1000,\n",
       "     multi_class='ovr', penalty='l2', random_state=43, tol=0.0001,\n",
       "     verbose=0)"
      ]
     },
     "execution_count": 241,
     "metadata": {},
     "output_type": "execute_result"
    }
   ],
   "source": [
    "clf_linear = svm.LinearSVC(random_state=43)\n",
    "clf_linear.fit(X_train, y_train)"
   ]
  },
  {
   "cell_type": "code",
   "execution_count": 242,
   "metadata": {},
   "outputs": [],
   "source": [
    "calibrator = CalibratedClassifierCV(clf_linear, cv='prefit').fit(X_train, y_train)\n",
    "calibrated_SVM_proba = calibrator.predict_proba(X_test)"
   ]
  },
  {
   "cell_type": "code",
   "execution_count": 251,
   "metadata": {},
   "outputs": [],
   "source": [
    "SVM_semiproba = clf_linear.decision_function(X_test)\n",
    "SVM_semiproba = (SVM_semiproba - SVM_semiproba.min())/(SVM_semiproba.max() - SVM_semiproba.min())"
   ]
  },
  {
   "cell_type": "code",
   "execution_count": 255,
   "metadata": {},
   "outputs": [
    {
     "data": {
      "image/png": "[encoded data removed]",
      "text/plain": [
       "<Figure size 720x360 with 2 Axes>"
      ]
     },
     "metadata": {},
     "output_type": "display_data"
    }
   ],
   "source": [
    "bin_middle_points = []\n",
    "bin_real_ratios = []\n",
    "n_bins = 20\n",
    "fig = plt.figure(figsize=(10,5))\n",
    "\n",
    "preds = SVM_semiproba\n",
    "fig.add_subplot(121)\n",
    "for i in range(n_bins):\n",
    "    l = 1.0 / n_bins * i\n",
    "    r = 1.0 / n_bins * (i + 1)\n",
    "    bin_middle_points.append((r + l) / 2)\n",
    "        \n",
    "    count_catch = np.count_nonzero([(preds >= l) & (preds < r)])\n",
    "    count_catch = count_catch if count_catch!=0 else 1\n",
    "    bin_real_ratios.append(np.count_nonzero(y_test[(preds >= l) & (preds < r)] == 1) /\n",
    "                               count_catch ) \n",
    "plt.grid(True)\n",
    "plt.title('Калибровочная кривая для SVM')\n",
    "plt.plot(bin_middle_points, bin_real_ratios)\n",
    "plt.ylabel('Доля верно угаданных объектов')\n",
    "plt.xlabel('нормированное значение decision_function')\n",
    "\n",
    "bin_middle_points = []\n",
    "bin_real_ratios = []\n",
    "preds = calibrated_SVM_proba[:,1]\n",
    "fig.add_subplot(122)\n",
    "for i in range(n_bins):\n",
    "    l = 1.0 / n_bins * i\n",
    "    r = 1.0 / n_bins * (i + 1)\n",
    "    bin_middle_points.append((r + l) / 2)\n",
    "    # неравильно считался центр\n",
    "        \n",
    "    count_catch = np.count_nonzero([(preds >= l) & (preds < r)])\n",
    "    count_catch = count_catch if count_catch!=0 else 1\n",
    "    bin_real_ratios.append(np.count_nonzero(y_test[(preds >= l) & (preds < r)] == 1) /\n",
    "                               count_catch ) \n",
    "plt.grid(True)\n",
    "plt.title('Калибровочная кривая для SVM после калибрации')\n",
    "plt.plot(bin_middle_points, bin_real_ratios)\n",
    "plt.xlabel('вероятность');\n",
    "plt.show()"
   ]
  },
  {
   "cell_type": "markdown",
   "metadata": {},
   "source": [
    "Видим, что CalibratedClassifierCV очень хорошо справилась и откалибровала действительно теперь выдает приближенные значения вероятностей"
   ]
  },
  {
   "cell_type": "markdown",
   "metadata": {},
   "source": [
    "__Бонусное задание (1 балл).__ Реализуйте свою функцию для калибровки вероятностей. Опишите ваш подход и продемонстрируйте результаты."
   ]
  },
  {
   "cell_type": "code",
   "execution_count": null,
   "metadata": {},
   "outputs": [],
   "source": [
    "### ╰( ͡° ͜ʖ ͡° )つ──☆*:・ﾟ"
   ]
  },
  {
   "cell_type": "markdown",
   "metadata": {},
   "source": [
    "## Часть 2. Работа с категориальными переменными"
   ]
  },
  {
   "cell_type": "markdown",
   "metadata": {},
   "source": [
    "В этой части мы научимся обрабатывать категориальные переменные, так как закодировать их в виде чисел недостаточно (это задаёт некоторый порядок, которого на категориальных переменных может и не быть). Существует два основных способа обработки категориальных значений:\n",
    "- One-hot-кодирование\n",
    "- Счётчики (CTR, mean-target кодирование, ...) — каждый категориальный признак заменяется на среднее значение целевой переменной по всем объектам, имеющим одинаковое значение в этом признаке.\n",
    "\n",
    "Начнём с one-hot-кодирования. Допустим наш категориальный признак $f_j(x)$ принимает значения из множества $C=\\{c_1, \\dots, c_m\\}$. Заменим его на $m$ бинарных признаков $b_1(x), \\dots, b_m(x)$, каждый из которых является индикатором одного из возможных категориальных значений:\n",
    "$$\n",
    "b_i(x) = [f_j(x) = c_i]\n",
    "$$"
   ]
  },
  {
   "cell_type": "markdown",
   "metadata": {
    "ExecuteTime": {
     "end_time": "2018-10-11T20:41:54.913436Z",
     "start_time": "2018-10-11T20:41:54.907515Z"
    }
   },
   "source": [
    "__Подготовка данных.__\n",
    "\n",
    "Загрузим данные с прошлогоднего конкурса  [Kaggle Porto Seguro’s Safe Driver Prediction](https://www.kaggle.com/c/porto-seguro-safe-driver-prediction) (вам нужна только обучающая выборка). Задача состоит в определении водителей, которые в ближайший год воспользуются своей автомобильной страховкой (бинарная классификация). Но для нас важна будет не сама задача, а только её данные. При этом под нужды задания мы немного модифицируем датасет."
   ]
  },
  {
   "cell_type": "code",
   "execution_count": 256,
   "metadata": {
    "ExecuteTime": {
     "end_time": "2018-10-12T07:36:04.765536Z",
     "start_time": "2018-10-12T07:35:57.814973Z"
    }
   },
   "outputs": [],
   "source": [
    "data = pd.read_csv('train.csv', index_col=0)\n",
    "target = data.target.values\n",
    "data = data.drop('target', axis=1)"
   ]
  },
  {
   "cell_type": "markdown",
   "metadata": {},
   "source": [
    "Пересемплируем выборку так, чтобы положительных и отрицательных объектов в выборке было одинаковое число. Разделим на обучающую и тестовую выборки.\n"
   ]
  },
  {
   "cell_type": "code",
   "execution_count": 436,
   "metadata": {
    "ExecuteTime": {
     "end_time": "2018-10-12T07:36:05.368407Z",
     "start_time": "2018-10-12T07:36:04.770388Z"
    }
   },
   "outputs": [],
   "source": [
    "# some resampling\n",
    "np.random.seed(910)\n",
    "mask_plus = np.random.choice(np.where(target == 1)[0], 100000, replace=True)\n",
    "mask_zero = np.random.choice(np.where(target == 0)[0], 100000, replace=True)\n",
    "\n",
    "data = pd.concat((data.iloc[mask_plus], data.iloc[mask_zero]))\n",
    "target = np.hstack((target[mask_plus], target[mask_zero]))\n",
    "\n",
    "X_train, X_test, y_train, y_test = train_test_split(data, target, test_size=0.5, random_state=2)"
   ]
  },
  {
   "cell_type": "markdown",
   "metadata": {},
   "source": [
    "__Задание 0.__ Посчитайте качество (в этом задании будем работать ROC-AUC) на исходных признаках при применении логистической регрессии.\n",
    "\n",
    "__(0 баллов)__"
   ]
  },
  {
   "cell_type": "code",
   "execution_count": 437,
   "metadata": {},
   "outputs": [],
   "source": [
    "start_time = time.time()\n",
    "clf_reg = LogisticRegression().fit(X_train, y_train)\n",
    "all_time_reg = time.time() - start_time"
   ]
  },
  {
   "cell_type": "code",
   "execution_count": 440,
   "metadata": {},
   "outputs": [
    {
     "name": "stdout",
     "output_type": "stream",
     "text": [
      "Время на обучение без кодирования категориальных признаков 7.603641748428345\n"
     ]
    }
   ],
   "source": [
    "print('Время на обучение без кодирования категориальных признаков', all_time_reg)"
   ]
  },
  {
   "cell_type": "code",
   "execution_count": 441,
   "metadata": {},
   "outputs": [
    {
     "data": {
      "text/plain": [
       "0.5867340432027991"
      ]
     },
     "execution_count": 441,
     "metadata": {},
     "output_type": "execute_result"
    }
   ],
   "source": [
    "predict_reg = clf_reg.predict(X_test)\n",
    "roc_auc_score(y_test, predict_reg)"
   ]
  },
  {
   "cell_type": "markdown",
   "metadata": {},
   "source": [
    "__Задание 1.__ Закодируйте все категориальные признаки с помощью one-hot-кодирования. Обучите логистическую регрессию и посмотрите, как изменилось качество модели (с тем, что было до кодирования). Измерьте время, потребовавшееся на обучение модели.\n",
    "\n",
    "__(1 балл)__"
   ]
  },
  {
   "cell_type": "code",
   "execution_count": 442,
   "metadata": {},
   "outputs": [],
   "source": [
    "from sklearn.preprocessing import OneHotEncoder"
   ]
  },
  {
   "cell_type": "code",
   "execution_count": 443,
   "metadata": {},
   "outputs": [],
   "source": [
    "list_name_cat_categories = list()\n",
    "for i, name_cat in enumerate(data.columns):\n",
    "    if name_cat[-3:] == 'cat':\n",
    "        list_name_cat_categories.append(name_cat)"
   ]
  },
  {
   "cell_type": "code",
   "execution_count": 444,
   "metadata": {
    "collapsed": true
   },
   "outputs": [
    {
     "name": "stderr",
     "output_type": "stream",
     "text": [
      "C:\\ProgramData\\Anaconda3\\lib\\site-packages\\pandas\\core\\frame.py:3137: SettingWithCopyWarning: \n",
      "A value is trying to be set on a copy of a slice from a DataFrame.\n",
      "Try using .loc[row_indexer,col_indexer] = value instead\n",
      "\n",
      "See the caveats in the documentation: http://pandas.pydata.org/pandas-docs/stable/indexing.html#indexing-view-versus-copy\n",
      "  self[k1] = value[k2]\n"
     ]
    }
   ],
   "source": [
    "only_cat_train = X_train[list_name_cat_categories]\n",
    "need_to_plus_one = only_cat_train.columns[(only_cat_train.min() == -1)]\n",
    "only_cat_train[need_to_plus_one] += 1"
   ]
  },
  {
   "cell_type": "code",
   "execution_count": 445,
   "metadata": {},
   "outputs": [],
   "source": [
    "X_train = X_train.drop(list_name_cat_categories, axis=1)"
   ]
  },
  {
   "cell_type": "code",
   "execution_count": 446,
   "metadata": {},
   "outputs": [
    {
     "name": "stderr",
     "output_type": "stream",
     "text": [
      "C:\\ProgramData\\Anaconda3\\lib\\site-packages\\pandas\\core\\frame.py:3137: SettingWithCopyWarning: \n",
      "A value is trying to be set on a copy of a slice from a DataFrame.\n",
      "Try using .loc[row_indexer,col_indexer] = value instead\n",
      "\n",
      "See the caveats in the documentation: http://pandas.pydata.org/pandas-docs/stable/indexing.html#indexing-view-versus-copy\n",
      "  self[k1] = value[k2]\n"
     ]
    }
   ],
   "source": [
    "only_cat_test = X_test[list_name_cat_categories]\n",
    "need_to_plus_one = only_cat_test.columns[(only_cat_test.min() == -1)]\n",
    "only_cat_test[need_to_plus_one] += 1"
   ]
  },
  {
   "cell_type": "code",
   "execution_count": 447,
   "metadata": {},
   "outputs": [],
   "source": [
    "X_test = X_test.drop(list_name_cat_categories, axis=1)"
   ]
  },
  {
   "cell_type": "code",
   "execution_count": 448,
   "metadata": {},
   "outputs": [],
   "source": [
    "encoder = OneHotEncoder().fit(only_cat_train)\n",
    "X_tmp = encoder.transform(only_cat_train).toarray()"
   ]
  },
  {
   "cell_type": "code",
   "execution_count": 449,
   "metadata": {},
   "outputs": [],
   "source": [
    "X_train = np.hstack((X_train.values, X_tmp))"
   ]
  },
  {
   "cell_type": "code",
   "execution_count": 450,
   "metadata": {},
   "outputs": [],
   "source": [
    "X_test = np.hstack((X_test.values, \n",
    "                    encoder.transform(only_cat_test).toarray()))"
   ]
  },
  {
   "cell_type": "code",
   "execution_count": 451,
   "metadata": {},
   "outputs": [],
   "source": [
    "start_time = time.time()\n",
    "clf_reg = LogisticRegression().fit(X_train, y_train)\n",
    "all_time_reg_onehot = time.time() - start_time"
   ]
  },
  {
   "cell_type": "code",
   "execution_count": 452,
   "metadata": {},
   "outputs": [
    {
     "name": "stdout",
     "output_type": "stream",
     "text": [
      "Время обучения регрессии после кодирования 19.0001060962677\n"
     ]
    }
   ],
   "source": [
    "print('Время обучения регрессии после кодирования', all_time_reg_onehot)"
   ]
  },
  {
   "cell_type": "code",
   "execution_count": 340,
   "metadata": {},
   "outputs": [
    {
     "data": {
      "text/plain": [
       "0.5948938065664708"
      ]
     },
     "execution_count": 340,
     "metadata": {},
     "output_type": "execute_result"
    }
   ],
   "source": [
    "predict_reg_onehot = clf_reg.predict(X_test)\n",
    "roc_auc_score(y_test, predict_reg_onehot)"
   ]
  },
  {
   "cell_type": "markdown",
   "metadata": {},
   "source": [
    "Видим, что время обучения увеличилось почти в 2.5 раз, однако и score возрос на 0.008 Это довольно неплохой показатель, учитывая то, что в обучающей выборке не так много данных по отношению к тестовой и мы кодиовали самым простым способом"
   ]
  },
  {
   "cell_type": "markdown",
   "metadata": {},
   "source": [
    "Как можно было заменить, one-hot-кодирование может сильно увеличивать количество признаков в датасете, что сказывается на памяти, особенно, если некоторый признак имеет большое количество значений. Эту проблему решает другой способ кодирование категориальных признаков — счётчики. Основная идея в том, что нам важны не сами категории, а значения целевой переменной, которые имеют объекты этой категории. Каждый категориальный признак мы заменим средним значением целевой переменной по всем объектам этой же категории:\n",
    "$$\n",
    "g_j(x, X) = \\frac{\\sum_{i=1}^{l} [f_j(x) = f_j(x_i)][y_i = +1]}{\\sum_{i=1}^{l} [f_j(x) = f_j(x_i)]}\n",
    "$$\n",
    "\n",
    "__Задание 2.__ Закодируйте категориальные переменные с помощью счётчиков (ровно так, как описано выше без каких-либо хитростей). Обучите логистическую регрессию и посмотрите на качество модели на тестовом множестве. Сравните время обучения с предыдущим экспериментов. Заметили ли вы что-то интересное?\n",
    "\n",
    "__(2 балла)__"
   ]
  },
  {
   "cell_type": "code",
   "execution_count": 607,
   "metadata": {},
   "outputs": [],
   "source": [
    "X_train, X_test, y_train, y_test = train_test_split(data, target, test_size=0.5, random_state=2)"
   ]
  },
  {
   "cell_type": "code",
   "execution_count": 608,
   "metadata": {},
   "outputs": [],
   "source": [
    "train_only_cat_features = X_train[list_name_cat_categories].values\n",
    "test_only_cat_features = X_test[list_name_cat_categories].values"
   ]
  },
  {
   "cell_type": "code",
   "execution_count": 601,
   "metadata": {},
   "outputs": [],
   "source": [
    "def make_counters(only_cat_features, only_cat_features_test,  y):\n",
    "    counted_features_tr = np.zeros(shape=(sparse_X_by_y.shape))\n",
    "    counted_features_test = np.zeros(shape=(sparse_X_by_y.shape))\n",
    "    for i, feature in enumerate(only_cat_features.T):\n",
    "        \n",
    "        # если есть отрицательный элемент, то увеличиваем все на 1\n",
    "        if (feature == -1).any():\n",
    "            only_cat_features[:,i] += 1   \n",
    "            only_cat_features_test[:, i] += 1\n",
    "        available = np.unique(only_cat_features[:,i])\n",
    "        # для каждого уникального значения признака считаем его счетчик\n",
    "        counter_every_unique = (np.bincount(only_cat_features[:,i]*y) / \n",
    "                                np.bincount(only_cat_features[:,i]))        \n",
    "        # проходим по всем уникальным знаечниям, и меняем их на счетчики\n",
    "        for prev_val, unique_val in enumerate(counter_every_unique):\n",
    "            counted_features_tr[\n",
    "                np.where(only_cat_features[:,i] == prev_val), i] = unique_val\n",
    "            \n",
    "            counted_features_test[\n",
    "                np.where(only_cat_features_test[:,i] == prev_val), i] = unique_val\n",
    "    \n",
    "    return counted_features_tr, counted_features_test\n",
    "            "
   ]
  },
  {
   "cell_type": "markdown",
   "metadata": {},
   "source": [
    "Алгоритм, приведенный выше, конечно, не идеален. В нем есть циклы, да еще и вложенные, но общее количество итераций будет равно сумме уникальных значений какждого категориального признака. Как мы могли видеть раннее (при one-hot encoding) это количесвто около 200. Это нормальное число итераций, учитывая, что все остальные операции векторизованы и выполняются очень быстро. Также тут проиходит деление на ноль в ситуации, когда признак не принимает какое-то значение и bincount для него равен 0, но в этом случае ни одно значение не заменится на nan или inf, потому что признак ни разу его и не принял!\n"
   ]
  },
  {
   "cell_type": "code",
   "execution_count": 602,
   "metadata": {
    "collapsed": true
   },
   "outputs": [
    {
     "name": "stderr",
     "output_type": "stream",
     "text": [
      "C:\\ProgramData\\Anaconda3\\lib\\site-packages\\ipykernel_launcher.py:16: RuntimeWarning: divide by zero encountered in true_divide\n",
      "  app.launch_new_instance()\n",
      "C:\\ProgramData\\Anaconda3\\lib\\site-packages\\ipykernel_launcher.py:16: RuntimeWarning: invalid value encountered in true_divide\n",
      "  app.launch_new_instance()\n"
     ]
    }
   ],
   "source": [
    "counted_x_train, counted_x_test = make_counters(train_only_cat_features, test_only_cat_features, y_train)"
   ]
  },
  {
   "cell_type": "code",
   "execution_count": 609,
   "metadata": {},
   "outputs": [],
   "source": [
    "X_test = X_test.drop(list_name_cat_categories, axis=1)\n",
    "X_test = np.hstack((X_test.values, counted_x_test))"
   ]
  },
  {
   "cell_type": "code",
   "execution_count": 610,
   "metadata": {},
   "outputs": [],
   "source": [
    "X_train = X_train.drop(list_name_cat_categories, axis=1)\n",
    "X_train = np.hstack((X_train.values, counted_x_train))"
   ]
  },
  {
   "cell_type": "code",
   "execution_count": 611,
   "metadata": {},
   "outputs": [
    {
     "name": "stdout",
     "output_type": "stream",
     "text": [
      "Время обучения регрессии после кодирования счетчиками 15.266245365142822\n",
      "AUC-ROC на тесте при использовании счетчиков 0.5910556256757136\n"
     ]
    }
   ],
   "source": [
    "start_time = time.time()\n",
    "clf_reg = LogisticRegression().fit(X_train, y_train)\n",
    "all_time_reg_count = time.time() - start_time\n",
    "print('Время обучения регрессии после кодирования счетчиками', all_time_reg_count)\n",
    "predict_reg_count = clf_reg.predict(X_test)\n",
    "print('AUC-ROC на тесте при использовании счетчиков', roc_auc_score(y_test, predict_reg_count))"
   ]
  },
  {
   "cell_type": "markdown",
   "metadata": {},
   "source": [
    "Видим, что качество по сравнению с исходными данными качество улучшилось на полпроцента, но это хуже, чем при one-hot кодировании. Объясняется это тем, что при one-hot кодировании у нас все-таки намног обольше признаков и обучатся алгоритму легче, однако время обучения со счетчиками заметно меньше - ведь количесвто признаков в этом случае не изменилось. Также отметим, что мы не нормировали данные, а счетчики принимают очень близкие значения к 0.5. Получается, что все данные не нормированы, а счетчики наоборот, поэтому, скорее всего, регуляризатор в SVM зануляет веса, соответсвующие счетчикам и мы не видим большого преимущества"
   ]
  },
  {
   "cell_type": "markdown",
   "metadata": {},
   "source": [
    "Отметим, что такие признаки сами по себе являются классификаторами и, обучаясь на них, мы допускаем \"утечку\" целевой переменной в признаки. Это ведёт к переобучению, поэтому считать такие признаки необходимо таким образом, чтобы при вычислении для конкретного объекта его целевая метка не использовалась. Это можно делать следующими способами:\n",
    "1. Вычислять значение счётчика по всем объектам расположенным выше в датасете (например, если у нас выборка отсортирована по времени).\n",
    "2. Вычислять по фолдам, то есть делить выборку на некоторое количество частей и подсчитывать значение признаков по всем фолдам кроме текущего (как делается в кросс-валидации).\n",
    "3. Внесение некоторого шума в посчитанные признаки. \n",
    "\n",
    "__Задание 3.__ Реализуйте корректное вычисление счётчиков самым простым способом — добавление шума к значениям (необходимо соблюсти баланс между избавление от переобучения и полезностью признаков). Снова обучите логистическую регрессию, оцените качество. Сделайте выводы.\n",
    "\n",
    "__(1 балл)__\n",
    "\n",
    "__(Бонусная часть)__ Посчитайте корректные счётчики первым или вторым способов из описанных выше (не забудьте добавить и шум). \n",
    "\n",
    "__(+0.5 балла)__"
   ]
  },
  {
   "cell_type": "code",
   "execution_count": 621,
   "metadata": {},
   "outputs": [],
   "source": [
    "X_train_noize = copy(X_train)\n",
    "num_cat = counted_x_train.shape[1]"
   ]
  },
  {
   "cell_type": "code",
   "execution_count": 622,
   "metadata": {},
   "outputs": [],
   "source": [
    "X_train_noize[:,-num_cat:] += np.random.random_sample(\n",
    "                                (counted_x_train.shape))/50"
   ]
  },
  {
   "cell_type": "code",
   "execution_count": 628,
   "metadata": {},
   "outputs": [
    {
     "name": "stdout",
     "output_type": "stream",
     "text": [
      "Добавочный шум от 0 до 0.1\n",
      "Время обучения 10.347066879272461\n",
      "AUC-ROC на тесте 0.5545959910544839\n",
      "Добавочный шум от 0 до 0.05\n",
      "Время обучения 12.977542877197266\n",
      "AUC-ROC на тесте 0.5789388747881968\n",
      "Добавочный шум от 0 до 0.02\n",
      "Время обучения 17.565927982330322\n",
      "AUC-ROC на тесте 0.5868915932075015\n",
      "Добавочный шум от 0 до 0.01\n",
      "Время обучения 15.659001588821411\n",
      "AUC-ROC на тесте 0.5897237940732506\n",
      "Добавочный шум от 0 до 0.005\n",
      "Время обучения 16.273687601089478\n",
      "AUC-ROC на тесте 0.5908733961449582\n",
      "Добавочный шум от 0 до 0.001\n",
      "Время обучения 15.123345851898193\n",
      "AUC-ROC на тесте 0.591376203113095\n"
     ]
    }
   ],
   "source": [
    "for denominator in [10, 20, 50, 100, 200, 1000]:\n",
    "    X_train_noize = copy(X_train)\n",
    "    X_train_noize[:,-num_cat:] += np.random.random_sample(\n",
    "                                (counted_x_train.shape))/denominator\n",
    "    print('Добавочный шум от 0 до {0}'.format((1/denominator)) )\n",
    "    start_time = time.time()\n",
    "    clf_reg = LogisticRegression().fit(X_train_noize, y_train)\n",
    "    all_time_reg_count = time.time() - start_time\n",
    "    print('Время обучения', all_time_reg_count)\n",
    "    predict_reg_count = clf_reg.predict(X_test)\n",
    "    print('AUC-ROC на тесте', \n",
    "          roc_auc_score(y_test, predict_reg_count))"
   ]
  },
  {
   "cell_type": "markdown",
   "metadata": {},
   "source": [
    "Здесь мы используем небольшую сетку параметров, чтобы подобрать шум. Видим, что результат, даже лучшей предыдущего достигается, елси добавить шум от 0 до $10^{-3}$ - это довольно логично, ведь значения счетчиков сами меньше единицы и при добавлении сравнительн обольшого шума мы лишаем эти признаки значимости"
   ]
  },
  {
   "cell_type": "markdown",
   "metadata": {},
   "source": [
    "А теперь ответьте на следующий вопрос: что будет, если некоторая категория встречается в выборке всего несколько раз? По этой причине производится сглаживание счётчиков. Например, на практике хорошие результаты показывает использование сглаживания средним по всей выборке:\n",
    "$$\n",
    "g_j(x, X) = \\frac{\\sum_{i=1}^{\\ell} [f_j(x) = f_j(x_i)][y_i = +1] + C \\times global\\_mean}{\\sum_{i=1}^{\\ell} [f_j(x) = f_j(x_i)] + C}\n",
    "$$\n",
    "где $global\\_mean$ — среднее значение целевой переменной по всей выборке, $C$ — параметр, определяющий степень сглаживания (например, можно использовать 10 или подобрать для каждого признака свой). Основная идея в том, что мы \"разбавляем\" среднее значение по некоторой категории глобальным средним значении. И тем меньше, чем большее количество объектов этой категории встречается в выборке. \n",
    "\n",
    "Однако для сглаживания вместо среднего значения целевой переменной можно использовать любое другое значение от 0 до 1 (этот параметр иногда называют $prior$). Можно сделать несколько признаков с разными значениями параметра. На практике в задачах бинарной классификации полезными бывают даже отрицательные значения!\n",
    "\n",
    "__Задание 4.__ Добавьте сглаживание, описанное выше и повторите эксперименты.\n",
    "\n",
    "__(2 балла)__"
   ]
  },
  {
   "cell_type": "markdown",
   "metadata": {},
   "source": [
    "Понятно, что если значение категории встречается редко, то значения счетчика на ней будут очень сильно зависеть от целевой переменной, а значит алгоритм на объектах с этой категорией очень перееобучится. Это может быть большой проблемой при оптимизации градиентным спуском"
   ]
  },
  {
   "cell_type": "code",
   "execution_count": 630,
   "metadata": {},
   "outputs": [],
   "source": [
    "def make_counters_smoothing(only_cat_features, only_cat_features_test,  y):\n",
    "    counted_features_tr = np.zeros(shape=(sparse_X_by_y.shape))\n",
    "    counted_features_test = np.zeros(shape=(sparse_X_by_y.shape))\n",
    "    C_coef = 10\n",
    "    for i, feature in enumerate(only_cat_features.T):\n",
    "        \n",
    "        # если есть отрицательный элемент, то увеличиваем все на 1\n",
    "        if (feature == -1).any():\n",
    "            only_cat_features[:,i] += 1   \n",
    "            only_cat_features_test[:, i] += 1\n",
    "        available = np.unique(only_cat_features[:,i])\n",
    "        # для каждого уникального значения признака считаем его счетчик\n",
    "        counter_every_unique = ((np.bincount(only_cat_features[:,i]*y) + C_coef/2) / \n",
    "                                (np.bincount(only_cat_features[:,i])+C_coef) )        \n",
    "        # учли, то что среднее значение целевой переменной равно 0.5\n",
    "        # проходим по всем уникальным знаечниям, и меняем их на счетчики\n",
    "        for prev_val, unique_val in enumerate(counter_every_unique):\n",
    "            counted_features_tr[\n",
    "                np.where(only_cat_features[:,i] == prev_val), i] = unique_val\n",
    "            \n",
    "            counted_features_test[\n",
    "                np.where(only_cat_features_test[:,i] == prev_val), i] = unique_val\n",
    "    \n",
    "    return counted_features_tr, counted_features_test"
   ]
  },
  {
   "cell_type": "code",
   "execution_count": 631,
   "metadata": {},
   "outputs": [],
   "source": [
    "X_train, X_test, y_train, y_test = train_test_split(data, target, test_size=0.5, random_state=2)\n",
    "train_only_cat_features = X_train[list_name_cat_categories].values\n",
    "test_only_cat_features = X_test[list_name_cat_categories].values\n",
    "counted_x_train, counted_x_test = make_counters_smoothing(train_only_cat_features, test_only_cat_features, y_train)\n",
    "X_test = X_test.drop(list_name_cat_categories, axis=1)\n",
    "X_test = np.hstack((X_test.values, counted_x_test))\n",
    "X_train = X_train.drop(list_name_cat_categories, axis=1)\n",
    "X_train = np.hstack((X_train.values, counted_x_train))"
   ]
  },
  {
   "cell_type": "code",
   "execution_count": 632,
   "metadata": {},
   "outputs": [
    {
     "name": "stdout",
     "output_type": "stream",
     "text": [
      "Добавочный шум от 0 до 0.01\n",
      "Время обучения 10.376035451889038\n",
      "AUC-ROC на тесте 0.5819382341077246\n",
      "Добавочный шум от 0 до 0.005\n",
      "Время обучения 12.487840414047241\n",
      "AUC-ROC на тесте 0.5815382890649653\n",
      "Добавочный шум от 0 до 0.001\n",
      "Время обучения 13.161453247070312\n",
      "AUC-ROC на тесте 0.5809851114395551\n",
      "Добавочный шум от 0 до 0.0005\n",
      "Время обучения 11.90217661857605\n",
      "AUC-ROC на тесте 0.5808957211829855\n",
      "Добавочный шум от 0 до 0.0002\n",
      "Время обучения 10.258118152618408\n",
      "AUC-ROC на тесте 0.5809065122381019\n"
     ]
    }
   ],
   "source": [
    "for denominator in [100, 200, 1000, 2000, 5000]:\n",
    "    X_train_noize = copy(X_train)\n",
    "    X_train_noize[:,-num_cat:] += np.random.random_sample(\n",
    "                                (counted_x_train.shape))/denominator\n",
    "    print('Добавочный шум от 0 до {0}'.format((1/denominator)) )\n",
    "    start_time = time.time()\n",
    "    clf_reg = LogisticRegression().fit(X_train_noize, y_train)\n",
    "    all_time_reg_count = time.time() - start_time\n",
    "    print('Время обучения', all_time_reg_count)\n",
    "    predict_reg_count = clf_reg.predict(X_test)\n",
    "    print('AUC-ROC на тесте', \n",
    "          roc_auc_score(y_test, predict_reg_count))"
   ]
  },
  {
   "cell_type": "markdown",
   "metadata": {},
   "source": [
    "Видим, что при сглаживании результаты не улучшились, а при добавлении небольшого шума даже становятся хуже. Связано это может быть, как уже было сказано с немасштабированностью других признаков. Также стоит отметить, что коэффициент C, конечно, нужно подбирать по кросс-валидации."
   ]
  },
  {
   "cell_type": "markdown",
   "metadata": {},
   "source": [
    "__Замечание.__ Усложнение методов вычисления счётчиков не делают результаты модели гарантированно лучше. Особенно с учётом того, что логистическая регрессия не такая сложная модель, чтобы переобучаться. Поэтому вы необязательно должны были получать на каждом шаге всё лучшие и лучшие результаты (но необходимые результаты у вас должны были получиться).\n",
    "\n",
    "Как вы должны были заметить, счётчики являются хорошей альтернативой one-hot-кодированию. Напишите, какие плюсы и минусы использования счётчиков по сравнению с one-hot-кодированием, вы заметили.\n",
    "\n",
    "__Ответ:__ ..."
   ]
  },
  {
   "cell_type": "markdown",
   "metadata": {},
   "source": [
    "Плюсы:\n",
    "1. Боллее быстрое время обучения (оно и понятно, не добавляем кучу признаков)\n",
    "2. Не съедают много памяти\n",
    "3. Обязательно масштабировать данные для регрессии\n",
    "\n",
    "Минусы:\n",
    "1. Все же результат мы получили хуже\n",
    "2. Необходимо искусствеено зашумлять данные \n",
    "\n",
    "В целом же при тщательном подборе и умелом использовании счетчики, коненчо, выигрывают one-hot-кодирование"
   ]
  }
 ],
 "metadata": {
  "kernelspec": {
   "display_name": "Python 3",
   "language": "python",
   "name": "python3"
  },
  "language_info": {
   "codemirror_mode": {
    "name": "ipython",
    "version": 3
   },
   "file_extension": ".py",
   "mimetype": "text/x-python",
   "name": "python",
   "nbconvert_exporter": "python",
   "pygments_lexer": "ipython3",
   "version": "3.6.5"
  }
 },
 "nbformat": 4,
 "nbformat_minor": 2
}
