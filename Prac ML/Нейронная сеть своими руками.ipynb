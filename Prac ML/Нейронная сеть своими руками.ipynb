{
 "cells": [
  {
   "cell_type": "markdown",
   "metadata": {},
   "source": [
    "# 1 практическое задание. Обучение полносвязной нейронной сети.\n",
    "\n",
    "## Практикум на ЭВМ для 317 группы, весна 2019\n",
    "\n",
    "#### Фамилия, имя: Демин Георгий\n",
    "\n",
    "Дата выдачи: 19 февраля\n",
    "\n",
    "Мягкий дедлайн: 28 февраля 23:59 "
   ]
  },
  {
   "cell_type": "code",
   "execution_count": 763,
   "metadata": {},
   "outputs": [],
   "source": [
    "import numpy as np\n",
    "import copy"
   ]
  },
  {
   "cell_type": "markdown",
   "metadata": {},
   "source": [
    "## Реализация нейронной сети (6 баллов)"
   ]
  },
  {
   "cell_type": "markdown",
   "metadata": {},
   "source": [
    "В этом задании вы обучите полносвязную нейронную сеть распознавать рукописные цифры (а что же еще, если не их :), [почти] самостоятельно реализовав все составляющие алгоритма обучения и предсказания.\n",
    "\n",
    "Для начала нам понадобится реализовать прямой и обратный проход через слои. Наши слои будут соответствовать следующему интерфейсу (на примере \"тождественного\" слоя):"
   ]
  },
  {
   "cell_type": "code",
   "execution_count": 764,
   "metadata": {},
   "outputs": [],
   "source": [
    "class IdentityLayer:\n",
    "    \"\"\"\n",
    "    A building block. Each layer is capable of performing two things:\n",
    "    \n",
    "    - Process input to get output:           \n",
    "    output = layer.forward(input)\n",
    "    \n",
    "    - Propagate gradients through itself:    \n",
    "    grad_input = layer.backward(input, grad_output)\n",
    "    \n",
    "    Some layers also have learnable parameters.\n",
    "    \n",
    "    Modified code from cs.hse DL course *\n",
    "    \"\"\"\n",
    "    def __init__(self):\n",
    "        \"\"\"Here you can initialize layer parameters (if any) \n",
    "        and auxiliary stuff. You should enumerate all parameters\n",
    "        in self.params\"\"\"\n",
    "        # An identity layer does nothing\n",
    "        self.params = []\n",
    "        pass\n",
    "    \n",
    "    def forward(self, input):\n",
    "        \"\"\"\n",
    "        Takes input data of shape [batch, input_units], \n",
    "        returns output data [batch, output_units]\n",
    "        \"\"\"\n",
    "        # An identity layer just returns whatever it gets as input.\n",
    "        self.input = input\n",
    "        return input\n",
    "\n",
    "    def backward(self, grad_output): \n",
    "        \"\"\"\n",
    "        Performs a backpropagation step through the layer, \n",
    "        with respect to the given input.\n",
    "        \n",
    "        To compute loss gradients w.r.t input, \n",
    "        you need to apply chain rule (backprop):\n",
    "        \n",
    "        d loss / d input  = (d loss / d layer) *  (d layer / d input)\n",
    "        \n",
    "        Luckily, you already receive d loss / d layer as input, \n",
    "        so you only need to multiply it by d layer / d x.\n",
    "        \n",
    "        The method returns:\n",
    "        * gradient w.r.t input (will be passed to \n",
    "          previous layer's backward method)\n",
    "        * flattened gradient w.r.t. parameters (with .ravel() \n",
    "          applied to each gradient). \n",
    "          If there are no params, return []\n",
    "        \"\"\"\n",
    "        # The gradient of an identity layer is precisely grad_output\n",
    "        input_dim = self.input.shape[1]\n",
    "        \n",
    "        d_layer_d_input = np.eye(input_dim)\n",
    "        \n",
    "        return np.dot(grad_output, d_layer_d_input), [] # chain rule"
   ]
  },
  {
   "cell_type": "markdown",
   "metadata": {},
   "source": [
    "### Слой нелинейности ReLU\n",
    "\n",
    "Для начала реализуем слой нелинейности $ReLU(x) = max(x, 0)$. Параметров у слоя нет. Метод forward должен вернуть результат поэлементного применения ReLU к входному массиву, метод backward - градиент функции потерь по входу слоя. В нуле будем считать производную равной 0. Обратите внимание, что при обратном проходе могут понадобиться величины, посчитанные во время прямого прохода, поэтому их стоит сохранить как атрибут класса."
   ]
  },
  {
   "cell_type": "code",
   "execution_count": 768,
   "metadata": {},
   "outputs": [],
   "source": [
    "class ReLU:\n",
    "    \"\"\"\n",
    "    Modified code from cs.hse DL course *\n",
    "    \"\"\"\n",
    "    def __init__(self):\n",
    "        \"\"\"ReLU layer simply applies elementwise rectified linear unit to all inputs\"\"\"\n",
    "        self.params = [] # ReLU has no parameters\n",
    "    \n",
    "    def forward(self, X):\n",
    "        \"\"\"Apply elementwise ReLU to [batch, num_units] matrix\"\"\"\n",
    "        res = copy.deepcopy(X)\n",
    "        res[res <= 0] = 0\n",
    "        self.objs_mask = [res > 0]\n",
    "        \n",
    "        return res\n",
    "    \n",
    "    def backward(self, grad_output):\n",
    "        \"\"\"Compute gradient of loss w.r.t. ReLU input\n",
    "        grad_output shape: [batch, num_units]\n",
    "        output 1 shape: [batch, num_units]\n",
    "        output 2: []\n",
    "        \"\"\"\n",
    "        \n",
    "        grad_input = np.zeros(grad_output.shape)\n",
    "        grad_input[tuple(self.objs_mask)] = 1 #!\n",
    "        grad_input *= grad_output        \n",
    "        return grad_input, []\n",
    "        \n",
    "        \n",
    "        \n",
    "        "
   ]
  },
  {
   "cell_type": "code",
   "execution_count": 769,
   "metadata": {},
   "outputs": [
    {
     "data": {
      "text/plain": [
       "(array([[ 1.,  1.],\n",
       "        [ 0., -0.]]), [])"
      ]
     },
     "execution_count": 769,
     "metadata": {},
     "output_type": "execute_result"
    }
   ],
   "source": [
    "rl = ReLU()\n",
    "X = np.array([[1, 1], [-2, -2]])\n",
    "rl.forward(X)\n",
    "rl.backward(np.array([[1, 1], [2, -3]]))"
   ]
  },
  {
   "cell_type": "markdown",
   "metadata": {},
   "source": [
    "### Полносвязный слой\n",
    "Далее реализуем полносвязный слой без нелинейности. У слоя два параметра: матрица весов и вектор сдвига.\n",
    "\n",
    "Обратите внимание на второй аргумент: в нем надо возвращать градиент по всем параметрам в одномерном виде. Для этого надо сначала применить .ravel() ко всем градиентам, а затем воспользоваться  np.r_:"
   ]
  },
  {
   "cell_type": "code",
   "execution_count": 770,
   "metadata": {},
   "outputs": [],
   "source": [
    "class Dense:\n",
    "    \"\"\"\n",
    "    Modified code from cs.hse DL course *\n",
    "    \"\"\"\n",
    "    def __init__(self, input_units, output_units):\n",
    "        \"\"\"\n",
    "        A dense layer is a layer which performs a learned affine transformation:\n",
    "        f(x) = W x + b\n",
    "        \"\"\"\n",
    "        # initialize weights with small random numbers from normal distribution\n",
    "        self.weights = np.random.normal(loc=0.0, \n",
    "                                        scale=(2/(input_units+output_units)), \n",
    "                                        size=(input_units, output_units) )\n",
    "        self.biases = np.zeros(output_units)\n",
    "        self.params = [self.weights, self.biases]\n",
    "        \n",
    "    def forward(self, X):\n",
    "        \"\"\"\n",
    "        Perform an affine transformation:\n",
    "        f(x) = W x + b\n",
    "        \n",
    "        input shape: [batch, input_units]\n",
    "        output shape: [batch, output units]\n",
    "        \"\"\"\n",
    "        self.X = X\n",
    "        result = np.dot(X, self.weights)\n",
    "        result = result + self.biases[np.newaxis, :]\n",
    "        return result\n",
    "        \n",
    "    \n",
    "    def backward(self, grad_output):\n",
    "        \"\"\"\n",
    "        compute gradients\n",
    "        grad_output shape: [batch, output_units]\n",
    "        output shapes: [batch, input_units], [num_params]\n",
    "        \n",
    "        hint: use function np.r_\n",
    "        np.r_[np.arange(3), np.arange(3)] = [0, 1, 2, 0, 1, 2]\n",
    "        \"\"\"\n",
    "        \n",
    "        grad_objs = np.dot(grad_output, self.weights.T)\n",
    "        grad_weights = np.dot(self.X.T, grad_output)\n",
    "        grad_bias = np.dot(np.ones(shape=(1, grad_output.shape[0])), grad_output)\n",
    "        \n",
    "        return grad_objs, np.r_[grad_weights.ravel(), grad_bias.ravel()]\n",
    "        \n",
    "        "
   ]
  },
  {
   "cell_type": "code",
   "execution_count": 771,
   "metadata": {},
   "outputs": [
    {
     "data": {
      "text/plain": [
       "array([1., 0., 0., 0., 1., 0., 0., 0., 1., 0., 1., 2., 3.])"
      ]
     },
     "execution_count": 771,
     "metadata": {},
     "output_type": "execute_result"
    }
   ],
   "source": [
    "# example\n",
    "np.r_[np.eye(3).ravel(), np.arange(4)]"
   ]
  },
  {
   "cell_type": "code",
   "execution_count": 772,
   "metadata": {},
   "outputs": [],
   "source": [
    "layer = Dense(3, 4)"
   ]
  },
  {
   "cell_type": "code",
   "execution_count": 773,
   "metadata": {},
   "outputs": [
    {
     "data": {
      "text/plain": [
       "[array([[ 0.00334638, -0.11873199, -0.01232712,  0.04435959],\n",
       "        [ 0.22207476,  0.44739431, -0.09993307, -0.10118681],\n",
       "        [ 0.0096758 , -0.13386654, -0.06056873,  0.18862446]]),\n",
       " array([0., 0., 0., 0.])]"
      ]
     },
     "execution_count": 773,
     "metadata": {},
     "output_type": "execute_result"
    }
   ],
   "source": [
    "layer.params"
   ]
  },
  {
   "cell_type": "markdown",
   "metadata": {},
   "source": [
    "### Проверка градиента\n",
    "\n",
    "Проверим правильность реализации с помощью функции численной проверки градиента. Функция берет на вход callable объект (функцию от одного аргумента-матрицы) и аргумент и вычисляет приближенный градиент функции в этой точке."
   ]
  },
  {
   "cell_type": "code",
   "execution_count": 777,
   "metadata": {},
   "outputs": [],
   "source": [
    "def eval_numerical_gradient(f, x, verbose=False, h=0.00001):\n",
    "    \"\"\"Evaluates gradient df/dx via finite differences:\n",
    "    df/dx ~ (f(x+h) - f(x-h)) / 2h\n",
    "    Adopted from https://github.com/ddtm/dl-course/\n",
    "    \"\"\"\n",
    "    \n",
    "    fx = f(x) # evaluate function value at original point\n",
    "    grad = np.zeros_like(x)\n",
    "    # iterate over all indexes in x\n",
    "    it = np.nditer(x, flags=['multi_index'], op_flags=['readwrite'])\n",
    "    \n",
    "    while not it.finished:\n",
    "\n",
    "        # evaluate function at x+h\n",
    "        ix = it.multi_index\n",
    "        oldval = x[ix]\n",
    "        x[ix] = oldval + h # increment by h\n",
    "        fxph = f(x) # evalute f(x + h)\n",
    "        x[ix] = oldval - h\n",
    "        fxmh = f(x) # evaluate f(x - h)\n",
    "        x[ix] = oldval # restore\n",
    "\n",
    "        # compute the partial derivative with centered formula\n",
    "        grad[ix] = (fxph - fxmh) / (2 * h) # the slope\n",
    "        if verbose:\n",
    "            print (ix, grad[ix])\n",
    "        it.iternext() # step to next dimension\n",
    "\n",
    "    return grad"
   ]
  },
  {
   "cell_type": "markdown",
   "metadata": {},
   "source": [
    "Вычислите аналитический и численный градиенты по входу слоя ReLU от функции\n",
    "$$ f(y) = \\sum_i y_i, \\quad y = ReLU(x) $$\n",
    "\n",
    "Следующая ячейка после заполнения должна не выдавать ошибку :)"
   ]
  },
  {
   "cell_type": "code",
   "execution_count": 778,
   "metadata": {},
   "outputs": [],
   "source": [
    "points = np.linspace(-1, 1, 10*12).reshape([10, 12])\n",
    "### your code here\n",
    "rl = ReLU()\n",
    "\n",
    "rl.forward(points)\n",
    "output_grad = np.ones(points.shape)\n",
    "grads = rl.backward(output_grad)[0]\n",
    "\n",
    "def func_max(x):\n",
    "    res = copy.deepcopy(x) \n",
    "    res[res <= 0] = 0\n",
    "    return res.sum()\n",
    "    \n",
    "\n",
    "numeric_grads = eval_numerical_gradient(func_max, points)\n",
    "\n",
    "assert np.allclose(grads, numeric_grads, rtol=1e-3, atol=0)"
   ]
  },
  {
   "cell_type": "markdown",
   "metadata": {},
   "source": [
    "Вычислите аналитический и численный градиенты по входу полносвязного слоя от функции\n",
    "$$ f(y) = \\sum_i y_i, \\quad y = W x + b $$"
   ]
  },
  {
   "cell_type": "code",
   "execution_count": 779,
   "metadata": {},
   "outputs": [],
   "source": [
    "x = np.linspace(-1, 1, 10*12).reshape([10, 12])\n",
    "el = Dense(12, 32)\n",
    "### your code here\n",
    "el.forward(x)\n",
    "grads = el.backward(np.ones(shape=(10, 32)))[0]\n",
    "numeric_grads = eval_numerical_gradient(lambda x: el.forward(x).sum(), x)\n",
    "\n",
    "\n",
    "assert np.allclose(grads, numeric_grads, rtol=1e-3, atol=0)"
   ]
  },
  {
   "cell_type": "markdown",
   "metadata": {},
   "source": [
    "### Реализация softmax-слоя и функции потерь"
   ]
  },
  {
   "cell_type": "markdown",
   "metadata": {},
   "source": [
    "Для решения задачи многоклассовой классификации обычно используют softmax в качестве нелинейности на последнем слое, чтобы получить вероятности классов для каждого объекта:\n",
    "$$\\hat y = softmax(x)  = \\bigl \\{\\frac {exp(x_i)}{\\sum_j exp(x_j)} \\bigr \\}_{i=1}^K, \\quad K - \\text{число классов}$$\n",
    "В этом случае удобно оптимизировать логарифм правдоподобия:\n",
    "$$L(y, \\hat y) = -\\sum_{i=1}^K y_i \\log \\hat y_i \\rightarrow \\min,$$\n",
    "где $y_i=1$, если объект принадлежит $i$-му классу, и 0 иначе. Записанная в таком виде, эта функция потерь совпадает с выражением для кросс-энтропии. Очевидно, что ее также можно переписать через индексацию, если через $y_i$ обозначить класс данного объекта:\n",
    "$$L(y, \\hat y) = - \\log \\hat y_{y_i} \\rightarrow \\min$$\n",
    "В таком виде ее удобно реализовывать."
   ]
  },
  {
   "cell_type": "markdown",
   "metadata": {},
   "source": [
    "Реализуйте слой Softmax (без параметров). Метод forward должен вычислять логарифм от softmax, а метод backward - пропускать градиенты. В общем случае в промежуточных вычислениях backward получится трехмерный тензор, однако для нашей конкретной функции потерь все вычисления можно реализовать в матричном виде.  Поэтому мы будем предполагать, что аргумент grad_output - это матрица, у которой в каждой строке только одно ненулевое значение (не обязательно единица)."
   ]
  },
  {
   "cell_type": "code",
   "execution_count": 780,
   "metadata": {},
   "outputs": [],
   "source": [
    "from scipy.special import logsumexp\n",
    "from scipy.special import softmax\n",
    "# use this function instead of np.log(np.sum(np.exp(...))) !\n",
    "# because it is more stable"
   ]
  },
  {
   "cell_type": "code",
   "execution_count": 781,
   "metadata": {},
   "outputs": [
    {
     "data": {
      "text/plain": [
       "array([[0.26894142, 0.73105858],\n",
       "       [0.01798621, 0.98201379]])"
      ]
     },
     "execution_count": 781,
     "metadata": {},
     "output_type": "execute_result"
    }
   ],
   "source": [
    "X = np.array([[0, 1], [-4 , 0]])\n",
    "softmax(X, axis=1)"
   ]
  },
  {
   "cell_type": "code",
   "execution_count": 782,
   "metadata": {},
   "outputs": [],
   "source": [
    "class Softmax:\n",
    "    def __init__(self):\n",
    "        self.params = []\n",
    "        \n",
    "    def forward(self, X):\n",
    "        \"\"\"\n",
    "        Applies softmax to each row and then applies component-wise log\n",
    "        Input shape: [batch, num_units]\n",
    "        Output shape: [batch, num_units]\n",
    "        \"\"\"\n",
    "        self.input_X = X\n",
    "        res = X - logsumexp(X, axis=1)[:, np.newaxis]\n",
    "        return res\n",
    "        \n",
    "        \n",
    "    \n",
    "    def backward(self, grad_output):\n",
    "        \"\"\"\n",
    "        Propagartes gradients.\n",
    "        Assumes that each row of grad_output contains only 1 \n",
    "        non-zero element\n",
    "        Input shape: [batch, num_units]\n",
    "        Output shape: [batch, num_units]\n",
    "        Do not forget to return [] as second value (grad w.r.t. params)\n",
    "        \"\"\"\n",
    "        \n",
    "        res = softmax(self.input_X, axis=1) + grad_output\n",
    "        return res, []\n",
    "        \n",
    "        \n",
    "        "
   ]
  },
  {
   "cell_type": "markdown",
   "metadata": {},
   "source": [
    "Реализуйте функцию потерь и градиенты функции потерь. "
   ]
  },
  {
   "cell_type": "code",
   "execution_count": 783,
   "metadata": {},
   "outputs": [],
   "source": [
    "def crossentropy(activations, target):\n",
    "    \"\"\"\n",
    "    returns negative log-likelihood of target under model represented by\n",
    "    activations (log probabilities of classes)\n",
    "    each arg has shape [batch, num_classes]\n",
    "    output shape: 1 (scalar)\n",
    "    \"\"\"\n",
    "    \n",
    "    res = activations*target*(-1)\n",
    "    res = (res[res!=0]).sum()\n",
    "    return res\n",
    "\n",
    "def grad_crossentropy(activations, target):\n",
    "    \"\"\"\n",
    "    returns gradient of negative log-likelihood w.r.t. activations\n",
    "    each arg has shape [batch, num_classes]\n",
    "    output shape: [batch, num-classes]\n",
    "    \n",
    "    hint: this is just one-hot encoding of target vector\n",
    "          multiplied by -1\n",
    "    \"\"\"\n",
    "    \n",
    "    return target * (-1)\n",
    "    \n",
    "    \n",
    "    "
   ]
  },
  {
   "cell_type": "markdown",
   "metadata": {},
   "source": [
    "Наконец, выполните проверку softmax-слоя, используя функцию потерь и ее градиент.  "
   ]
  },
  {
   "cell_type": "code",
   "execution_count": 784,
   "metadata": {},
   "outputs": [],
   "source": [
    "points = np.linspace(-1, 1, 10*12).reshape([10, 12])\n",
    "target = np.arange(10)\n",
    "target = np.eye(N=10, M=12)\n",
    "\n",
    "\n",
    "sm = Softmax()\n",
    "sm.forward(points)\n",
    "\n",
    "res = crossentropy(sm.forward(points), target)\n",
    "gr_out = grad_crossentropy(sm.forward(points), target)\n",
    "\n",
    "\n",
    "grads = sm.backward(gr_out)[0]\n",
    "\n",
    "def func(x):   \n",
    "    sm = Softmax()   \n",
    "    target_ = np.eye(N=10, M=12)\n",
    "    res = crossentropy(sm.forward(x), target_)\n",
    "    return res\n",
    "\n",
    "\n",
    "numeric_grads = eval_numerical_gradient(func, points)\n",
    "\n",
    "\n",
    "assert np.allclose(grads, numeric_grads, rtol=1e-3, atol=0)"
   ]
  },
  {
   "cell_type": "markdown",
   "metadata": {},
   "source": [
    "## Загрузка данных\n",
    "\n",
    "Мы реализаовали все архитектурные составляющие нашей нейронной сети. Осталось загрузить данные и обучить модель. Мы будем работать с датасетом digits, каждый объект в котором - это 8x8 изображение рукописной цифры."
   ]
  },
  {
   "cell_type": "code",
   "execution_count": 785,
   "metadata": {},
   "outputs": [],
   "source": [
    "import matplotlib.pyplot as plt\n",
    "%matplotlib inline"
   ]
  },
  {
   "cell_type": "code",
   "execution_count": 786,
   "metadata": {},
   "outputs": [],
   "source": [
    "from sklearn.datasets import load_digits"
   ]
  },
  {
   "cell_type": "code",
   "execution_count": 787,
   "metadata": {},
   "outputs": [],
   "source": [
    "X, y = load_digits(return_X_y=True)"
   ]
  },
  {
   "cell_type": "code",
   "execution_count": 788,
   "metadata": {},
   "outputs": [
    {
     "data": {
      "text/plain": [
       "((1797, 64), (1797,))"
      ]
     },
     "execution_count": 788,
     "metadata": {},
     "output_type": "execute_result"
    }
   ],
   "source": [
    "X.shape, y.shape"
   ]
  },
  {
   "cell_type": "markdown",
   "metadata": {},
   "source": [
    "Разделим данные на обучение и контроль:"
   ]
  },
  {
   "cell_type": "code",
   "execution_count": 789,
   "metadata": {},
   "outputs": [],
   "source": [
    "from sklearn.model_selection import train_test_split"
   ]
  },
  {
   "cell_type": "code",
   "execution_count": 790,
   "metadata": {},
   "outputs": [],
   "source": [
    "X_train, X_test, y_train, y_test = train_test_split(X, y, random_state=0)"
   ]
  },
  {
   "cell_type": "code",
   "execution_count": 791,
   "metadata": {},
   "outputs": [
    {
     "data": {
      "text/plain": [
       "((1347, 64), (450, 64))"
      ]
     },
     "execution_count": 791,
     "metadata": {},
     "output_type": "execute_result"
    }
   ],
   "source": [
    "X_train.shape, X_test.shape"
   ]
  },
  {
   "cell_type": "markdown",
   "metadata": {},
   "source": [
    "## Сборка и обучение нейронной сети (2 балла)"
   ]
  },
  {
   "cell_type": "markdown",
   "metadata": {},
   "source": [
    "В нашей реализации нейросеть - это список слоев. Например:"
   ]
  },
  {
   "cell_type": "code",
   "execution_count": 792,
   "metadata": {},
   "outputs": [],
   "source": [
    "network = []\n",
    "hidden_layers_size = 32\n",
    "network.append(Dense(X_train.shape[1], hidden_layers_size))\n",
    "network.append(ReLU())\n",
    "network.append(Dense(hidden_layers_size, hidden_layers_size))\n",
    "network.append(ReLU())\n",
    "network.append(Dense(hidden_layers_size, 10))\n",
    "network.append(Softmax())"
   ]
  },
  {
   "cell_type": "markdown",
   "metadata": {},
   "source": [
    "Для проверки, хорошо ли сеть обучилась, нам понадобится вычислять точность (accuracy) на данной выборке. Для этого реализуйте функцию, которая делает предсказания на каждом объекте:"
   ]
  },
  {
   "cell_type": "code",
   "execution_count": 793,
   "metadata": {},
   "outputs": [],
   "source": [
    "def forward_net(network, X):\n",
    "    next_input = X\n",
    "    for layer in network:\n",
    "        next_input = layer.forward(next_input)\n",
    "    return next_input\n",
    "\n",
    "def predict(network, X):\n",
    "    \"\"\"\n",
    "    returns predictions for each object in X\n",
    "    network: list of layers\n",
    "    X: raw data\n",
    "    X shape: [batch, features_num]\n",
    "    output: array of classes, each from 0 to 9\n",
    "    output shape: [batch]\n",
    "    \"\"\"\n",
    "    return np.argmax(forward_net(network, X), axis=1)\n",
    "    \n",
    "    \n",
    "    "
   ]
  },
  {
   "cell_type": "code",
   "execution_count": 794,
   "metadata": {},
   "outputs": [
    {
     "data": {
      "text/plain": [
       "(450,)"
      ]
     },
     "execution_count": 794,
     "metadata": {},
     "output_type": "execute_result"
    }
   ],
   "source": [
    "predict(network, X_test).shape"
   ]
  },
  {
   "cell_type": "markdown",
   "metadata": {},
   "source": [
    "Мы будем обучать параметры нейросети с помощью готовой функции оптимизации из модуля scipy:"
   ]
  },
  {
   "cell_type": "code",
   "execution_count": 795,
   "metadata": {},
   "outputs": [],
   "source": [
    "from scipy.optimize import minimize"
   ]
  },
  {
   "cell_type": "markdown",
   "metadata": {},
   "source": [
    "Эта функция имеет стандартный интерфейс: нужно передать callable объект, который вычисляет значение и градиент целевой функции, а также точку старта оптимизации - начальное приближение (одномерный numpy-массив). Поэтому нам понадобятся функции для сбора и задания всех весов нашей нейросети (именно для них мы всегда записывали параметры слоя в список layer.params)"
   ]
  },
  {
   "cell_type": "code",
   "execution_count": 796,
   "metadata": {},
   "outputs": [],
   "source": [
    "def get_weights(network):\n",
    "    weights = []\n",
    "    for layer in network:\n",
    "        for param in layer.params:\n",
    "            weights += param.ravel().tolist()\n",
    "    return np.array(weights)\n",
    "\n",
    "def set_weights(weights, network):\n",
    "    i = 0\n",
    "    for layer in network:\n",
    "        for param in layer.params:\n",
    "            l = param.size\n",
    "            param[:] = weights[i:i+l].reshape(param.shape)\n",
    "            i += l\n",
    "        "
   ]
  },
  {
   "cell_type": "markdown",
   "metadata": {},
   "source": [
    "Вам нужно реализовать ту самую функцию, которую мы будем передавать в minimize. Эта функция должна брать на вход текущую точку (вектор всех параметров), а также список дополнительных параметров (мы будем передавать через них нашу сеть и обучающие данные) и возвращать значение критерия качества (кросс-энтропия) и его градиент по параметрам модели."
   ]
  },
  {
   "cell_type": "code",
   "execution_count": 797,
   "metadata": {},
   "outputs": [],
   "source": [
    "y_train_oh = np.zeros((y_train.shape[0], 10))\n",
    "y_train_oh[np.arange(y_train.shape[0]), y_train] = 1"
   ]
  },
  {
   "cell_type": "code",
   "execution_count": 798,
   "metadata": {},
   "outputs": [],
   "source": [
    "import itertools"
   ]
  },
  {
   "cell_type": "code",
   "execution_count": 799,
   "metadata": {},
   "outputs": [],
   "source": [
    "\n",
    "def calc_grad_net(network, grad_loss):\n",
    "    network.reverse()\n",
    "    try:\n",
    "        next_grad = grad_loss\n",
    "        list_grad_params = list()\n",
    "        for layer in network:\n",
    "            grads = layer.backward(next_grad)\n",
    "            #print(len(grads[1]))\n",
    "            next_grad = grads[0]\n",
    "            list_grad_params.insert(0, grads[1])\n",
    "    finally:\n",
    "        network.reverse()\n",
    "    \n",
    "    #print(list_grad_params[1])\n",
    "    merged = list(itertools.chain.from_iterable(list_grad_params))\n",
    "    #print(len(merged))\n",
    "    return np.array(merged)"
   ]
  },
  {
   "cell_type": "code",
   "execution_count": 800,
   "metadata": {},
   "outputs": [],
   "source": [
    "def compute_loss_grad(weights, args):\n",
    "    \"\"\"\n",
    "    takes current weights and computes cross-entropy and gradients\n",
    "    weights shape: [num_parameters]\n",
    "    output 1: loss (scalar)\n",
    "    output 2: gradint w.r.t. weights, shape: [num_parameters]\n",
    "    \n",
    "    hint: firstly perform forward pass through the whole network\n",
    "    then compute loss and its gradients\n",
    "    then perform backward pass, transmitting first baskward output\n",
    "    to the previos layer and saving second baskward output in a list\n",
    "    finally flatten all the gradients in this list\n",
    "    (in the order from the first to the last layer)\n",
    "    \n",
    "    Do not forget to set weights of the network!\n",
    "    \"\"\"\n",
    "    network, X, y = args\n",
    "    ### your code here\n",
    "    \n",
    "    set_weights(weights, network)\n",
    "    next_input = X\n",
    "    activations = forward_net(network, X)\n",
    "    gr_out = grad_crossentropy(activations, y)\n",
    "    \n",
    "    return crossentropy(activations, y), calc_grad_net(network, gr_out)"
   ]
  },
  {
   "cell_type": "code",
   "execution_count": 801,
   "metadata": {
    "scrolled": false
   },
   "outputs": [
    {
     "data": {
      "text/plain": [
       "3099.8923650206525"
      ]
     },
     "execution_count": 801,
     "metadata": {},
     "output_type": "execute_result"
    }
   ],
   "source": [
    "compute_loss_grad(get_weights(network), [network, X_train, y_train_oh])[0]"
   ]
  },
  {
   "cell_type": "code",
   "execution_count": 802,
   "metadata": {},
   "outputs": [
    {
     "data": {
      "text/plain": [
       "(3466,)"
      ]
     },
     "execution_count": 802,
     "metadata": {},
     "output_type": "execute_result"
    }
   ],
   "source": [
    "get_weights(network).shape"
   ]
  },
  {
   "cell_type": "markdown",
   "metadata": {},
   "source": [
    "Теперь мы готовы обучать нашу нейросеть. "
   ]
  },
  {
   "cell_type": "code",
   "execution_count": 803,
   "metadata": {},
   "outputs": [],
   "source": [
    "network = list()\n",
    "hidden_layers_size = 32\n",
    "network.append(Dense(X_train.shape[1], hidden_layers_size))\n",
    "network.append(ReLU())\n",
    "network.append(Dense(hidden_layers_size, hidden_layers_size))\n",
    "network.append(ReLU())\n",
    "network.append(Dense(hidden_layers_size, 10))\n",
    "network.append(Softmax())\n",
    "weights = get_weights(network)"
   ]
  },
  {
   "cell_type": "code",
   "execution_count": 804,
   "metadata": {},
   "outputs": [
    {
     "data": {
      "text/plain": [
       "array([-0.00575779,  0.02052346,  0.00553812, ...,  0.        ,\n",
       "        0.        ,  0.        ])"
      ]
     },
     "execution_count": 804,
     "metadata": {},
     "output_type": "execute_result"
    }
   ],
   "source": [
    "weights"
   ]
  },
  {
   "cell_type": "code",
   "execution_count": 805,
   "metadata": {},
   "outputs": [],
   "source": [
    "res = minimize(compute_loss_grad, weights,  # fun and start point\n",
    "               args=[network, X_train, y_train_oh], # args passed to fun\n",
    "               method=\"L-BFGS-B\", # optimization method\n",
    "               jac=True) # says that gradient are computed in fun"
   ]
  },
  {
   "cell_type": "code",
   "execution_count": 806,
   "metadata": {},
   "outputs": [
    {
     "data": {
      "text/plain": [
       "dict_keys(['fun', 'jac', 'nfev', 'nit', 'status', 'message', 'x', 'success', 'hess_inv'])"
      ]
     },
     "execution_count": 806,
     "metadata": {},
     "output_type": "execute_result"
    }
   ],
   "source": [
    "res.keys()"
   ]
  },
  {
   "cell_type": "code",
   "execution_count": 807,
   "metadata": {},
   "outputs": [
    {
     "data": {
      "text/plain": [
       "153"
      ]
     },
     "execution_count": 807,
     "metadata": {},
     "output_type": "execute_result"
    }
   ],
   "source": [
    "res[\"nit\"] # number of iterations (should be >> 10)"
   ]
  },
  {
   "cell_type": "code",
   "execution_count": 808,
   "metadata": {},
   "outputs": [
    {
     "data": {
      "text/plain": [
       "True"
      ]
     },
     "execution_count": 808,
     "metadata": {},
     "output_type": "execute_result"
    }
   ],
   "source": [
    "res[\"success\"] # should be True"
   ]
  },
  {
   "cell_type": "code",
   "execution_count": 809,
   "metadata": {},
   "outputs": [
    {
     "data": {
      "text/plain": [
       "array([-0.00575779,  0.02052346,  0.00553812, ..., -0.01669729,\n",
       "       -0.12997059, -0.15433442])"
      ]
     },
     "execution_count": 809,
     "metadata": {},
     "output_type": "execute_result"
    }
   ],
   "source": [
    "res[\"x\"] # leraned weights"
   ]
  },
  {
   "cell_type": "markdown",
   "metadata": {},
   "source": [
    "Выведите качество на обучении (X_train, y_train) и на контроле (X_test, y_test. Не забудьте установить веса!"
   ]
  },
  {
   "cell_type": "code",
   "execution_count": 810,
   "metadata": {},
   "outputs": [],
   "source": [
    "from sklearn.metrics import accuracy_score\n"
   ]
  },
  {
   "cell_type": "code",
   "execution_count": 811,
   "metadata": {},
   "outputs": [
    {
     "name": "stdout",
     "output_type": "stream",
     "text": [
      "1.0\n",
      "0.9444444444444444\n"
     ]
    }
   ],
   "source": [
    "print(accuracy_score(predict(network, X_train), y_train))\n",
    "print(accuracy_score(predict(network, X_test), y_test))"
   ]
  },
  {
   "cell_type": "markdown",
   "metadata": {},
   "source": [
    "У minimize есть также аргумент callback - в нее можно передать функцию, которая будет вызываться после каждой итерации оптимизации. Такую функцию удобно оформить в виде метода класса, который будет сохранять качество на обучении контроле после каждой итерации. Реализуйте этот метод в классе Callback:"
   ]
  },
  {
   "cell_type": "code",
   "execution_count": 733,
   "metadata": {},
   "outputs": [],
   "source": [
    "class Callback:\n",
    "    def __init__(self, network, X_train, y_train, X_test, y_test, print_=False):\n",
    "        self.network = network\n",
    "        self.X_train = X_train\n",
    "        self.X_test = X_test\n",
    "        self.y_train = y_train\n",
    "        self.y_test = y_test\n",
    "        self.print_ = print_\n",
    "        self.train_acc = []\n",
    "        self.test_acc = []\n",
    "        \n",
    "    def call(self, weights):\n",
    "        \"\"\"\n",
    "        computes quality on train and test set with given weights\n",
    "        and saves to self.train_acc and self.test_acc\n",
    "        if self.print is True, also prints these 2 values\n",
    "        \"\"\"\n",
    "        \n",
    "        tr_ac = accuracy_score(predict(self.network, self.X_train), self.y_train)\n",
    "        test_ac = accuracy_score(predict(self.network, self.X_test), self.y_test)\n",
    "        self.train_acc.append(tr_ac)\n",
    "        self.test_acc.append(test_ac)\n",
    "        if self.print_:\n",
    "            print(tr_ac, test_ac)\n",
    "        \n",
    "        \n",
    "        \n",
    "        "
   ]
  },
  {
   "cell_type": "code",
   "execution_count": 738,
   "metadata": {},
   "outputs": [],
   "source": [
    "network = list()\n",
    "hidden_layers_size = 32\n",
    "network.append(Dense(X_train.shape[1], hidden_layers_size))\n",
    "network.append(ReLU())\n",
    "network.append(Dense(hidden_layers_size, hidden_layers_size))\n",
    "network.append(ReLU())\n",
    "network.append(Dense(hidden_layers_size, 10))\n",
    "network.append(Softmax())\n",
    "weights = get_weights(network)"
   ]
  },
  {
   "cell_type": "code",
   "execution_count": 739,
   "metadata": {
    "collapsed": true
   },
   "outputs": [
    {
     "name": "stdout",
     "output_type": "stream",
     "text": [
      "0.10616184112843356 0.08444444444444445\n",
      "0.10616184112843356 0.08444444444444445\n",
      "0.10616184112843356 0.08444444444444445\n",
      "0.2650334075723831 0.24\n",
      "0.26206384558277657 0.24888888888888888\n",
      "0.26874536005939126 0.26\n",
      "0.3578322197475872 0.33111111111111113\n",
      "0.3637713437268003 0.32666666666666666\n",
      "0.4484038604305865 0.4088888888888889\n",
      "0.5716406829992576 0.5422222222222223\n",
      "0.6139569413511508 0.5533333333333333\n",
      "0.5694135115070527 0.54\n",
      "0.6302895322939867 0.5888888888888889\n",
      "0.6807720861172977 0.6466666666666666\n",
      "0.696362286562732 0.6844444444444444\n",
      "0.7253155159613957 0.7288888888888889\n",
      "0.7312546399406088 0.72\n",
      "0.7342242019302153 0.7422222222222222\n",
      "0.7564959168522642 0.7644444444444445\n",
      "0.7609502598366741 0.7644444444444445\n",
      "0.7921306607275427 0.7688888888888888\n",
      "0.8099480326651819 0.7911111111111111\n",
      "0.7988121752041574 0.7844444444444445\n",
      "0.8173719376391982 0.8088888888888889\n",
      "0.8195991091314031 0.8155555555555556\n",
      "0.8188567186340014 0.8177777777777778\n",
      "0.821826280623608 0.8222222222222222\n",
      "0.838158871566444 0.8422222222222222\n",
      "0.8470675575352635 0.8422222222222222\n",
      "0.8574610244988864 0.8444444444444444\n",
      "0.8596881959910914 0.8511111111111112\n",
      "0.8678544914625093 0.8622222222222222\n",
      "0.8789903489235338 0.8511111111111112\n",
      "0.8878990348923533 0.8688888888888889\n",
      "0.8938381588715665 0.8711111111111111\n",
      "0.8975501113585747 0.8777777777777778\n",
      "0.8990348923533779 0.8733333333333333\n",
      "0.9057164068299925 0.8822222222222222\n",
      "0.9146250927988122 0.8977777777777778\n",
      "0.9153674832962138 0.9\n",
      "0.9161098737936154 0.8888888888888888\n",
      "0.9168522642910171 0.8888888888888888\n",
      "0.9131403118040089 0.8911111111111111\n",
      "0.9250185597624351 0.8933333333333333\n",
      "0.9287305122494433 0.9044444444444445\n",
      "0.9294729027468448 0.9088888888888889\n",
      "0.9294729027468448 0.9133333333333333\n",
      "0.9376391982182628 0.9066666666666666\n",
      "0.9361544172234595 0.9088888888888889\n",
      "0.9406087602078693 0.9133333333333333\n",
      "0.9465478841870824 0.92\n",
      "0.9502598366740905 0.9222222222222223\n",
      "0.9517446176688938 0.9222222222222223\n",
      "0.9576837416481069 0.9266666666666666\n",
      "0.9606533036377134 0.9288888888888889\n",
      "0.9621380846325167 0.9377777777777778\n",
      "0.96362286562732 0.94\n",
      "0.9643652561247216 0.9377777777777778\n",
      "0.9651076466221232 0.94\n",
      "0.9658500371195249 0.9333333333333333\n",
      "0.9673348181143281 0.94\n",
      "0.9673348181143281 0.9377777777777778\n",
      "0.9695619896065331 0.9444444444444444\n",
      "0.9703043801039347 0.9422222222222222\n",
      "0.9725315515961396 0.9444444444444444\n",
      "0.9755011135857461 0.9422222222222222\n",
      "0.9762435040831478 0.9466666666666667\n",
      "0.9762435040831478 0.9466666666666667\n",
      "0.9747587230883444 0.94\n",
      "0.9769858945805494 0.9466666666666667\n",
      "0.9806978470675576 0.9422222222222222\n",
      "0.9799554565701559 0.9422222222222222\n",
      "0.9799554565701559 0.9488888888888889\n",
      "0.9806978470675576 0.9466666666666667\n",
      "0.9806978470675576 0.9422222222222222\n",
      "0.9799554565701559 0.9466666666666667\n",
      "0.9836674090571641 0.9444444444444444\n",
      "0.9829250185597624 0.9422222222222222\n",
      "0.9844097995545658 0.9444444444444444\n",
      "0.9866369710467706 0.9488888888888889\n",
      "0.9903489235337788 0.9511111111111111\n",
      "0.9903489235337788 0.9466666666666667\n",
      "0.9903489235337788 0.9488888888888889\n",
      "0.9903489235337788 0.9488888888888889\n",
      "0.9910913140311804 0.9488888888888889\n",
      "0.9910913140311804 0.9466666666666667\n",
      "0.9896065330363771 0.9466666666666667\n",
      "0.9910913140311804 0.9444444444444444\n",
      "0.9910913140311804 0.9466666666666667\n",
      "0.9933184855233853 0.9444444444444444\n",
      "0.994060876020787 0.9444444444444444\n",
      "0.9948032665181886 0.9444444444444444\n",
      "0.9948032665181886 0.9488888888888889\n",
      "0.9985152190051967 0.9511111111111111\n",
      "0.9977728285077951 0.9488888888888889\n",
      "0.9977728285077951 0.9488888888888889\n",
      "0.9985152190051967 0.9488888888888889\n",
      "0.9985152190051967 0.9533333333333334\n",
      "0.9977728285077951 0.9555555555555556\n",
      "0.9977728285077951 0.96\n",
      "0.9977728285077951 0.9577777777777777\n",
      "0.9992576095025983 0.96\n",
      "0.9970304380103935 0.9533333333333334\n",
      "0.9992576095025983 0.9488888888888889\n",
      "1.0 0.9511111111111111\n",
      "1.0 0.9488888888888889\n",
      "0.9992576095025983 0.9488888888888889\n",
      "1.0 0.9466666666666667\n",
      "1.0 0.9488888888888889\n",
      "1.0 0.9533333333333334\n",
      "1.0 0.9533333333333334\n",
      "1.0 0.9533333333333334\n",
      "1.0 0.9533333333333334\n",
      "1.0 0.9533333333333334\n",
      "1.0 0.9555555555555556\n",
      "1.0 0.9577777777777777\n",
      "1.0 0.9555555555555556\n",
      "1.0 0.9555555555555556\n",
      "1.0 0.9577777777777777\n",
      "1.0 0.9533333333333334\n",
      "1.0 0.9533333333333334\n",
      "1.0 0.9511111111111111\n",
      "1.0 0.9511111111111111\n",
      "1.0 0.9511111111111111\n",
      "1.0 0.9511111111111111\n",
      "1.0 0.9488888888888889\n",
      "1.0 0.9511111111111111\n",
      "1.0 0.9511111111111111\n",
      "1.0 0.9533333333333334\n",
      "1.0 0.9533333333333334\n",
      "1.0 0.9555555555555556\n",
      "1.0 0.9533333333333334\n",
      "1.0 0.9533333333333334\n",
      "1.0 0.9555555555555556\n",
      "1.0 0.9533333333333334\n",
      "1.0 0.9533333333333334\n",
      "1.0 0.9533333333333334\n",
      "1.0 0.9533333333333334\n",
      "1.0 0.9511111111111111\n",
      "1.0 0.9488888888888889\n",
      "1.0 0.9555555555555556\n",
      "1.0 0.9533333333333334\n",
      "1.0 0.9533333333333334\n",
      "1.0 0.9488888888888889\n",
      "1.0 0.9511111111111111\n",
      "1.0 0.9533333333333334\n",
      "1.0 0.9533333333333334\n",
      "1.0 0.9577777777777777\n",
      "1.0 0.96\n",
      "1.0 0.96\n",
      "1.0 0.96\n",
      "1.0 0.9577777777777777\n",
      "1.0 0.9577777777777777\n",
      "1.0 0.9577777777777777\n",
      "1.0 0.9577777777777777\n",
      "1.0 0.9577777777777777\n",
      "1.0 0.9577777777777777\n",
      "1.0 0.96\n",
      "1.0 0.96\n",
      "1.0 0.96\n",
      "1.0 0.9622222222222222\n",
      "1.0 0.9622222222222222\n",
      "1.0 0.9622222222222222\n",
      "1.0 0.9622222222222222\n",
      "1.0 0.9622222222222222\n",
      "1.0 0.9644444444444444\n",
      "1.0 0.9644444444444444\n",
      "1.0 0.9622222222222222\n",
      "1.0 0.9622222222222222\n",
      "1.0 0.9622222222222222\n",
      "1.0 0.9622222222222222\n",
      "1.0 0.9622222222222222\n",
      "1.0 0.9622222222222222\n",
      "True\n"
     ]
    }
   ],
   "source": [
    "cb = Callback(network, X_train, y_train, X_test, y_test, print_=True)\n",
    "res = minimize(compute_loss_grad, weights,  \n",
    "               args=[network, X_train, y_train_oh], \n",
    "               method=\"L-BFGS-B\",\n",
    "               jac=True,\n",
    "               callback=cb.call)\n",
    "print(res['success'])"
   ]
  },
  {
   "cell_type": "markdown",
   "metadata": {},
   "source": [
    "Изобразите на графике кривую качества на обучени ии контроле по итерациям:"
   ]
  },
  {
   "cell_type": "code",
   "execution_count": 740,
   "metadata": {},
   "outputs": [
    {
     "data": {
      "text/plain": [
       "<matplotlib.legend.Legend at 0x28e6dad1898>"
      ]
     },
     "execution_count": 740,
     "metadata": {},
     "output_type": "execute_result"
    },
    {
     "data": {
      "image/png": "[encoded data removed]",
      "text/plain": [
       "<Figure size 432x288 with 1 Axes>"
      ]
     },
     "metadata": {},
     "output_type": "display_data"
    }
   ],
   "source": [
    "plt.plot(cb.train_acc, label=\"train acc\")\n",
    "plt.plot(cb.test_acc, label=\"test acc\")\n",
    "plt.xlabel(\"Iteration\")\n",
    "plt.ylabel(\"Accuracy\")\n",
    "plt.legend()"
   ]
  },
  {
   "cell_type": "markdown",
   "metadata": {},
   "source": [
    "## Эксперименты с числом слоев (2 балла)"
   ]
  },
  {
   "cell_type": "markdown",
   "metadata": {},
   "source": [
    "Ясно, что из-за случайного начального приближения с каждым запуском обучения мы будем получать различное качество. Попробуем обучать нашу нейросеть с разным числом слоев несколько раз.\n",
    "\n",
    "Заполните матрицы accs_train и accs_test. В позиции [i, j] должна стоять величина точности сети с $i+1$ полносвязными слоями при $j$-м запуске (все запуски идентичны)."
   ]
  },
  {
   "cell_type": "code",
   "execution_count": 758,
   "metadata": {},
   "outputs": [],
   "source": [
    "max_num_layers = 7\n",
    "max_num_iters = 5\n",
    "accs_train = np.zeros((max_num_layers, max_num_iters))\n",
    "accs_test = np.zeros((max_num_layers, max_num_iters))"
   ]
  },
  {
   "cell_type": "code",
   "execution_count": 759,
   "metadata": {
    "collapsed": true
   },
   "outputs": [
    {
     "name": "stdout",
     "output_type": "stream",
     "text": [
      "62\n",
      "57\n",
      "58\n",
      "64\n",
      "61\n",
      "1 0\n",
      "82\n",
      "1 1\n",
      "77\n",
      "1 2\n",
      "89\n",
      "1 3\n",
      "61\n",
      "1 4\n",
      "100\n",
      "2 0\n",
      "157\n",
      "2 1\n",
      "110\n",
      "2 2\n",
      "140\n",
      "2 3\n",
      "177\n",
      "2 4\n",
      "135\n",
      "3 0\n",
      "183\n",
      "3 1\n",
      "276\n",
      "3 2\n",
      "335\n",
      "3 3\n",
      "160\n",
      "3 4\n",
      "260\n",
      "4 0\n",
      "351\n",
      "4 1\n",
      "244\n",
      "4 2\n",
      "282\n",
      "4 3\n",
      "221\n",
      "4 4\n",
      "260\n",
      "5 0\n",
      "393\n",
      "5 1\n",
      "712\n",
      "5 2\n",
      "607\n",
      "5 3\n",
      "435\n",
      "5 4\n",
      "373\n",
      "6 0\n",
      "546\n",
      "6 1\n",
      "466\n",
      "6 2\n",
      "476\n",
      "6 3\n",
      "602\n",
      "6 4\n",
      "1596\n"
     ]
    }
   ],
   "source": [
    "hidden_layers_size = 32\n",
    "               \n",
    "for num_iter in range(0, max_num_iters):\n",
    "    network = list()\n",
    "    network.append(Dense(X_train.shape[1], 10))\n",
    "    network.append(Softmax())\n",
    "    weights = get_weights(network)\n",
    "    \n",
    "    res = minimize(compute_loss_grad, weights,  # fun and start point\n",
    "               args=[network, X_train, y_train_oh], # args passed to fun\n",
    "               method=\"L-BFGS-B\", # optimization method\n",
    "               jac=True)\n",
    "    \n",
    "    tr_ac = accuracy_score(predict(network, X_train), y_train)\n",
    "    test_ac = accuracy_score(predict(network, X_test), y_test)\n",
    "    \n",
    "    accs_train[0, num_iter] = tr_ac\n",
    "    accs_test[0, num_iter] = test_ac\n",
    "    print(res['nit'])\n",
    "    \n",
    "\n",
    "for num_layers in range(1, max_num_layers):    \n",
    "    for num_iter in range(0, max_num_iters):               \n",
    "        print(num_layers, num_iter)\n",
    "        \n",
    "        network = list()\n",
    "        network.append(Dense(X_train.shape[1], hidden_layers_size))\n",
    "        for i in range(1, num_layers):           \n",
    "            network.append(ReLU())\n",
    "            network.append(Dense(hidden_layers_size, hidden_layers_size))\n",
    "        \n",
    "        network.append(ReLU())\n",
    "        network.append(Dense(hidden_layers_size, 10))\n",
    "        network.append(Softmax())\n",
    "        \n",
    "        weights = get_weights(network)\n",
    "        \n",
    "        res = minimize(compute_loss_grad, weights,  # fun and start point\n",
    "               args=[network, X_train, y_train_oh], # args passed to fun\n",
    "               method=\"L-BFGS-B\", # optimization method\n",
    "               jac=True)\n",
    "    \n",
    "        tr_ac = accuracy_score(predict(network, X_train), y_train)\n",
    "        test_ac = accuracy_score(predict(network, X_test), y_test)\n",
    "    \n",
    "        accs_train[num_layers, num_iter] = tr_ac\n",
    "        accs_test[num_layers, num_iter] = test_ac\n",
    "    \n",
    "        print(res[\"nit\"])\n",
    "    \n",
    "\n",
    "        \n",
    "    "
   ]
  },
  {
   "cell_type": "code",
   "execution_count": 656,
   "metadata": {
    "scrolled": true
   },
   "outputs": [
    {
     "data": {
      "text/plain": [
       "(3100.5941996202146,\n",
       " array([ 0.00000000e+00,  0.00000000e+00,  0.00000000e+00, ...,\n",
       "         2.49184118e-05, -1.26071643e-04,  1.06704083e-04]))"
      ]
     },
     "execution_count": 656,
     "metadata": {},
     "output_type": "execute_result"
    }
   ],
   "source": [
    "compute_loss_grad(weights, [network, X_train, y_train_oh])"
   ]
  },
  {
   "cell_type": "code",
   "execution_count": 655,
   "metadata": {},
   "outputs": [
    {
     "data": {
      "text/plain": [
       "1"
      ]
     },
     "execution_count": 655,
     "metadata": {},
     "output_type": "execute_result"
    }
   ],
   "source": [
    "weights = get_weights(network)\n",
    "res = minimize(compute_loss_grad, weights,  # fun and start point\n",
    "               args=[network, X_train, y_train_oh], # args passed to fun\n",
    "               method=\"L-BFGS-B\", # optimization method\n",
    "               jac=True)\n",
    "res['nit']"
   ]
  },
  {
   "cell_type": "code",
   "execution_count": 760,
   "metadata": {},
   "outputs": [
    {
     "data": {
      "text/plain": [
       "array([[0.94444444, 0.94222222, 0.94888889, 0.93777778, 0.94222222],\n",
       "       [0.95777778, 0.94444444, 0.95555556, 0.95777778, 0.94666667],\n",
       "       [0.94666667, 0.95555556, 0.94888889, 0.94888889, 0.94888889],\n",
       "       [0.94888889, 0.94      , 0.96      , 0.94222222, 0.93777778],\n",
       "       [0.94888889, 0.94666667, 0.93555556, 0.94888889, 0.92666667],\n",
       "       [0.94888889, 0.92222222, 0.92444444, 0.92888889, 0.92666667],\n",
       "       [0.92888889, 0.93333333, 0.93555556, 0.9       , 0.90444444]])"
      ]
     },
     "execution_count": 760,
     "metadata": {},
     "output_type": "execute_result"
    }
   ],
   "source": [
    "accs_test"
   ]
  },
  {
   "cell_type": "code",
   "execution_count": 761,
   "metadata": {},
   "outputs": [
    {
     "data": {
      "text/plain": [
       "array([[1., 1., 1., 1., 1.],\n",
       "       [1., 1., 1., 1., 1.],\n",
       "       [1., 1., 1., 1., 1.],\n",
       "       [1., 1., 1., 1., 1.],\n",
       "       [1., 1., 1., 1., 1.],\n",
       "       [1., 1., 1., 1., 1.],\n",
       "       [1., 1., 1., 1., 1.]])"
      ]
     },
     "execution_count": 761,
     "metadata": {},
     "output_type": "execute_result"
    }
   ],
   "source": [
    "accs_train"
   ]
  },
  {
   "cell_type": "markdown",
   "metadata": {},
   "source": [
    "Построим боксплоты полученного качества (горизонтальная линия в каждом столбце - среднее, прямоугольник показывает разброс)."
   ]
  },
  {
   "cell_type": "code",
   "execution_count": 762,
   "metadata": {},
   "outputs": [
    {
     "data": {
      "text/plain": [
       "Text(0.5,1,'Test quality in 5 runs')"
      ]
     },
     "execution_count": 762,
     "metadata": {},
     "output_type": "execute_result"
    },
    {
     "data": {
      "image/png": "[encoded data removed]",
      "text/plain": [
       "<Figure size 432x288 with 1 Axes>"
      ]
     },
     "metadata": {},
     "output_type": "display_data"
    }
   ],
   "source": [
    "plt.boxplot(accs_test.T, showfliers=False)\n",
    "plt.xlabel(\"Num layers\")\n",
    "plt.ylabel(\"Test accuracy\")\n",
    "plt.title(\"Test quality in 5 runs\")"
   ]
  },
  {
   "cell_type": "markdown",
   "metadata": {},
   "source": [
    "Ответьте на вопросы (кратко в этой же ячейке):\n",
    "* Как изменяются качество на обучении и контроле и устойчивость процесса обучения при увеличении числа слоев?\n",
    "* Можно ли сказать, что логистическая регрессия (линейная модель) дает качество хуже, чем нелинейная модель?"
   ]
  },
  {
   "cell_type": "markdown",
   "metadata": {},
   "source": [
    "Как мы видим лучшее качество достигается при 2-3 слоях нейронной сети. При этом отличие от линейной модели не очень большое. Гораздо хуже качество получается при увеличении числа слоев (соответсвенно, усложнении модели), связано это, скорее всего, с переобучением сети (интересно отметить, что при всех эспериментах модель достигала 1 на обучающей выборке).\n",
    "\n",
    "\n",
    "\n",
    "Также отметим, что при большом числе слоев количество итераций, необходимых для оптимизации, растет. Связано это с проблемой просачивания градиента: чем больше слоев, тем хуже доходит градиент backpropogation до первых слоев и тем хуже обучаются веса на первых слоях. От этого может старадть устойчивость обучения (при различной инициализации сеть обучается лучше или хуже), однако на графике в нашем случае это не так очевидно."
   ]
  },
  {
   "cell_type": "markdown",
   "metadata": {},
   "source": [
    "\\* Несколько фрагментов кода в задании написаны на основе материалов [курса по глубинному обучению на ФКН НИУ ВШЭ](https://www.hse.ru/ba/ami/courses/205504078.html)"
   ]
  },
  {
   "cell_type": "markdown",
   "metadata": {},
   "source": [
    "## Бонусная часть"
   ]
  },
  {
   "cell_type": "markdown",
   "metadata": {},
   "source": [
    "## Реализация метода оптимизации (1 балл)\n",
    "\n",
    "Реализуйте сами метод оптимизации (аналог функции minimize) для рассмотренной выше архитектуры. В качестве метода оптимизации используйте SGD + momentum. Продемонстрируйте правильную работу метода оптимизации, сравните его работы с LBFGS-B. Сделайте выводы."
   ]
  },
  {
   "cell_type": "markdown",
   "metadata": {},
   "source": [
    "## Dropout (1 балл) \n",
    "\n",
    "Реализуйте слой Dropout. Сравните обучение сети из большого числа слоёв при использовании Dropout и без его использования (предварительно подберите адекватный параметр p). Сделайте выводы. Используя метод оптимизации из первого бонусного пункта. "
   ]
  },
  {
   "cell_type": "markdown",
   "metadata": {},
   "source": [
    "## BatchNormalization (1 балл)\n",
    "\n",
    "Реализуйте слой BatchNormalization. Сравните обучение сети из большого числа слоёв при использовании BatchNormalization и без его использования.  Сделайте выводы. Используя метод оптимизации из первого бонусного пункта. "
   ]
  }
 ],
 "metadata": {
  "kernelspec": {
   "display_name": "Python 3",
   "language": "python",
   "name": "python3"
  },
  "language_info": {
   "codemirror_mode": {
    "name": "ipython",
    "version": 3
   },
   "file_extension": ".py",
   "mimetype": "text/x-python",
   "name": "python",
   "nbconvert_exporter": "python",
   "pygments_lexer": "ipython3",
   "version": "3.6.5"
  }
 },
 "nbformat": 4,
 "nbformat_minor": 2
}
